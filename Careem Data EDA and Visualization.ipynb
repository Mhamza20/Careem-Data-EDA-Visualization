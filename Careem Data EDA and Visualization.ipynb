{
 "cells": [
  {
   "cell_type": "markdown",
   "id": "4e3be7b3",
   "metadata": {},
   "source": [
    "\n",
    "##### Analyst: Muhammad Hamza Jahangir\n",
    "\n",
    "## Careem Data Analysis With Python\n",
    "\n",
    "Careem Technologies, Inc., commonly known as Careem, is an Pakistan's technology company. Its services include ride-hailing, food delivery, package delivery, couriers.\n",
    "We will main use data regarding Uber ride\n",
    "\n",
    "we will use Python to analyze data of Careem.\n",
    "\n",
    "##### We will use Python to see:\n",
    "    What are the number of trips?\n",
    "    How many careem's drivers serve according to city?\n",
    "    What are the booking types?\n",
    "    how long do people travel with Careem?\n",
    "    What Hour Do Most People Take careem To Their Destination?\n",
    "    Which service peoples use mostly?\n",
    "    Which Day Has The Highest Number Of Trips?\n",
    "    What Are The Number Of Trips Per Each Day?\n",
    "    Which month has the highest number of trips?\n",
    "    Which hours of the day highest trips are made weekday wise?\n",
    "    What is the average of the trip price?\n",
    "    What are the costs of the trips?\n",
    "    What is the average duration of the trip?\n",
    "    How many trips booked according to passengers?\n",
    "    From which location the highest number of trips booked?\n",
    "    How much distance covered in trips according to time?\n",
    "\n",
    "\n",
    "The dataset for this project is taken from Kaggle."
   ]
  },
  {
   "cell_type": "markdown",
   "id": "434a8eb6",
   "metadata": {},
   "source": [
    "## First, Import The Necessary Libraries"
   ]
  },
  {
   "cell_type": "code",
   "execution_count": 1,
   "id": "85980ae5",
   "metadata": {
    "execution": {
     "iopub.execute_input": "2021-10-03T07:29:37.377804Z",
     "iopub.status.busy": "2021-10-03T07:29:37.376534Z",
     "iopub.status.idle": "2021-10-03T07:29:37.387152Z",
     "shell.execute_reply": "2021-10-03T07:29:37.387719Z",
     "shell.execute_reply.started": "2021-10-03T07:28:57.788141Z"
    },
    "papermill": {
     "duration": 0.04117,
     "end_time": "2021-10-03T07:29:37.388028",
     "exception": false,
     "start_time": "2021-10-03T07:29:37.346858",
     "status": "completed"
    },
    "tags": []
   },
   "outputs": [],
   "source": [
    "import pandas as pd \n",
    "import matplotlib.pyplot as plt \n",
    "import numpy as np \n",
    "import matplotlib\n",
    "import seaborn as sns\n",
    "import datetime\n",
    "import calendar\n",
    "import networkx as nx\n",
    "import warnings"
   ]
  },
  {
   "cell_type": "code",
   "execution_count": 2,
   "id": "029ee72e",
   "metadata": {
    "execution": {
     "iopub.execute_input": "2021-10-03T07:29:37.441775Z",
     "iopub.status.busy": "2021-10-03T07:29:37.441037Z",
     "iopub.status.idle": "2021-10-03T07:29:37.520080Z",
     "shell.execute_reply": "2021-10-03T07:29:37.519445Z",
     "shell.execute_reply.started": "2021-10-03T07:28:57.815911Z"
    },
    "papermill": {
     "duration": 0.106988,
     "end_time": "2021-10-03T07:29:37.520216",
     "exception": false,
     "start_time": "2021-10-03T07:29:37.413228",
     "status": "completed"
    },
    "tags": []
   },
   "outputs": [
    {
     "data": {
      "text/html": [
       "<div>\n",
       "<style scoped>\n",
       "    .dataframe tbody tr th:only-of-type {\n",
       "        vertical-align: middle;\n",
       "    }\n",
       "\n",
       "    .dataframe tbody tr th {\n",
       "        vertical-align: top;\n",
       "    }\n",
       "\n",
       "    .dataframe thead th {\n",
       "        text-align: right;\n",
       "    }\n",
       "</style>\n",
       "<table border=\"1\" class=\"dataframe\">\n",
       "  <thead>\n",
       "    <tr style=\"text-align: right;\">\n",
       "      <th></th>\n",
       "      <th>Booking ID</th>\n",
       "      <th>Trip ID</th>\n",
       "      <th>Service Area</th>\n",
       "      <th>Booking Type</th>\n",
       "      <th>Booked_Date</th>\n",
       "      <th>Car Type</th>\n",
       "      <th>AA1</th>\n",
       "      <th>Passenger</th>\n",
       "      <th>AA</th>\n",
       "      <th>Reference Code</th>\n",
       "      <th>...</th>\n",
       "      <th>Wait Time Min</th>\n",
       "      <th>Trip Currency</th>\n",
       "      <th>Discount</th>\n",
       "      <th>Trip Price</th>\n",
       "      <th>Payment Currency</th>\n",
       "      <th>Payment Price</th>\n",
       "      <th>Amount of Credit Used</th>\n",
       "      <th>Credit ID</th>\n",
       "      <th>Payment Type</th>\n",
       "      <th>Notes</th>\n",
       "    </tr>\n",
       "  </thead>\n",
       "  <tbody>\n",
       "    <tr>\n",
       "      <th>0</th>\n",
       "      <td>1.094435e+09</td>\n",
       "      <td>756104590.0</td>\n",
       "      <td>Karachi</td>\n",
       "      <td>On Demand</td>\n",
       "      <td>2020-03-10 12:28:00</td>\n",
       "      <td>Bike</td>\n",
       "      <td>AA2</td>\n",
       "      <td>B2</td>\n",
       "      <td>AA</td>\n",
       "      <td>NaN</td>\n",
       "      <td>...</td>\n",
       "      <td>8.0</td>\n",
       "      <td>PKR</td>\n",
       "      <td>3</td>\n",
       "      <td>109</td>\n",
       "      <td>PKR</td>\n",
       "      <td>109</td>\n",
       "      <td>NaN</td>\n",
       "      <td>26218.0</td>\n",
       "      <td>Cash</td>\n",
       "      <td>NaN</td>\n",
       "    </tr>\n",
       "    <tr>\n",
       "      <th>1</th>\n",
       "      <td>1.092789e+09</td>\n",
       "      <td>754858038.0</td>\n",
       "      <td>Karachi</td>\n",
       "      <td>On Demand</td>\n",
       "      <td>2020-03-08 17:38:00</td>\n",
       "      <td>Bike</td>\n",
       "      <td>AA3</td>\n",
       "      <td>B2</td>\n",
       "      <td>AA</td>\n",
       "      <td>NaN</td>\n",
       "      <td>...</td>\n",
       "      <td>6.0</td>\n",
       "      <td>PKR</td>\n",
       "      <td>3</td>\n",
       "      <td>97</td>\n",
       "      <td>PKR</td>\n",
       "      <td>97</td>\n",
       "      <td>NaN</td>\n",
       "      <td>26218.0</td>\n",
       "      <td>Cash</td>\n",
       "      <td>NaN</td>\n",
       "    </tr>\n",
       "    <tr>\n",
       "      <th>2</th>\n",
       "      <td>1.092552e+09</td>\n",
       "      <td>754683006.0</td>\n",
       "      <td>Karachi</td>\n",
       "      <td>On Demand</td>\n",
       "      <td>2020-03-08 13:32:00</td>\n",
       "      <td>Bike</td>\n",
       "      <td>AA4</td>\n",
       "      <td>B3</td>\n",
       "      <td>AA</td>\n",
       "      <td>NaN</td>\n",
       "      <td>...</td>\n",
       "      <td>3.0</td>\n",
       "      <td>PKR</td>\n",
       "      <td>3</td>\n",
       "      <td>77</td>\n",
       "      <td>PKR</td>\n",
       "      <td>77</td>\n",
       "      <td>NaN</td>\n",
       "      <td>26218.0</td>\n",
       "      <td>Cash</td>\n",
       "      <td>NaN</td>\n",
       "    </tr>\n",
       "    <tr>\n",
       "      <th>3</th>\n",
       "      <td>1.086480e+09</td>\n",
       "      <td>750123752.0</td>\n",
       "      <td>Karachi</td>\n",
       "      <td>On Demand</td>\n",
       "      <td>2020-03-02 17:16:00</td>\n",
       "      <td>Bike</td>\n",
       "      <td>AA5</td>\n",
       "      <td>B4</td>\n",
       "      <td>AA</td>\n",
       "      <td>NaN</td>\n",
       "      <td>...</td>\n",
       "      <td>9.0</td>\n",
       "      <td>PKR</td>\n",
       "      <td>34</td>\n",
       "      <td>37</td>\n",
       "      <td>PKR</td>\n",
       "      <td>37</td>\n",
       "      <td>NaN</td>\n",
       "      <td>26218.0</td>\n",
       "      <td>Cash</td>\n",
       "      <td>NaN</td>\n",
       "    </tr>\n",
       "    <tr>\n",
       "      <th>4</th>\n",
       "      <td>1.077528e+09</td>\n",
       "      <td>743340406.0</td>\n",
       "      <td>Karachi</td>\n",
       "      <td>On Demand</td>\n",
       "      <td>2020-02-22 17:50:00</td>\n",
       "      <td>Bike</td>\n",
       "      <td>AA6</td>\n",
       "      <td>B5</td>\n",
       "      <td>AA</td>\n",
       "      <td>NaN</td>\n",
       "      <td>...</td>\n",
       "      <td>9.0</td>\n",
       "      <td>PKR</td>\n",
       "      <td>0</td>\n",
       "      <td>66</td>\n",
       "      <td>PKR</td>\n",
       "      <td>66</td>\n",
       "      <td>NaN</td>\n",
       "      <td>26218.0</td>\n",
       "      <td>Cash</td>\n",
       "      <td>NaN</td>\n",
       "    </tr>\n",
       "  </tbody>\n",
       "</table>\n",
       "<p>5 rows × 37 columns</p>\n",
       "</div>"
      ],
      "text/plain": [
       "     Booking ID      Trip ID Service Area Booking Type         Booked_Date  \\\n",
       "0  1.094435e+09  756104590.0      Karachi    On Demand 2020-03-10 12:28:00   \n",
       "1  1.092789e+09  754858038.0      Karachi    On Demand 2020-03-08 17:38:00   \n",
       "2  1.092552e+09  754683006.0      Karachi    On Demand 2020-03-08 13:32:00   \n",
       "3  1.086480e+09  750123752.0      Karachi    On Demand 2020-03-02 17:16:00   \n",
       "4  1.077528e+09  743340406.0      Karachi    On Demand 2020-02-22 17:50:00   \n",
       "\n",
       "  Car Type  AA1 Passenger   AA  Reference Code  ...  Wait Time Min  \\\n",
       "0     Bike  AA2        B2   AA             NaN  ...            8.0   \n",
       "1     Bike  AA3        B2   AA             NaN  ...            6.0   \n",
       "2     Bike  AA4        B3   AA             NaN  ...            3.0   \n",
       "3     Bike  AA5        B4   AA             NaN  ...            9.0   \n",
       "4     Bike  AA6        B5   AA             NaN  ...            9.0   \n",
       "\n",
       "  Trip Currency Discount  Trip Price  Payment Currency  Payment Price  \\\n",
       "0           PKR        3         109               PKR            109   \n",
       "1           PKR        3          97               PKR             97   \n",
       "2           PKR        3          77               PKR             77   \n",
       "3           PKR       34          37               PKR             37   \n",
       "4           PKR        0          66               PKR             66   \n",
       "\n",
       "   Amount of Credit Used  Credit ID Payment Type Notes  \n",
       "0                    NaN    26218.0         Cash   NaN  \n",
       "1                    NaN    26218.0         Cash   NaN  \n",
       "2                    NaN    26218.0         Cash   NaN  \n",
       "3                    NaN    26218.0         Cash   NaN  \n",
       "4                    NaN    26218.0         Cash   NaN  \n",
       "\n",
       "[5 rows x 37 columns]"
      ]
     },
     "execution_count": 2,
     "metadata": {},
     "output_type": "execute_result"
    }
   ],
   "source": [
    "df=pd.read_csv('Careem_data.csv',encoding='latin6',parse_dates=['Booked_Date'])\n",
    "df.head()"
   ]
  },
  {
   "cell_type": "code",
   "execution_count": 3,
   "id": "76866d06",
   "metadata": {
    "scrolled": false
   },
   "outputs": [
    {
     "name": "stdout",
     "output_type": "stream",
     "text": [
      "<class 'pandas.core.frame.DataFrame'>\n",
      "RangeIndex: 1037 entries, 0 to 1036\n",
      "Data columns (total 37 columns):\n",
      " #   Column                 Non-Null Count  Dtype         \n",
      "---  ------                 --------------  -----         \n",
      " 0   Booking ID             1037 non-null   float64       \n",
      " 1   Trip ID                1037 non-null   float64       \n",
      " 2   Service Area           1037 non-null   object        \n",
      " 3   Booking Type           1037 non-null   object        \n",
      " 4   Booked_Date            1037 non-null   datetime64[ns]\n",
      " 5   Car Type               1037 non-null   object        \n",
      " 6   AA1                    1037 non-null   object        \n",
      " 7   Passenger              1037 non-null   object        \n",
      " 8   AA                     1037 non-null   object        \n",
      " 9   Reference Code         0 non-null      float64       \n",
      " 10  Rating                 0 non-null      float64       \n",
      " 11  Pickup Location        1037 non-null   object        \n",
      " 12  Dropoff Location       1037 non-null   object        \n",
      " 13  Duration               1037 non-null   int64         \n",
      " 14  Total Distance         1037 non-null   float64       \n",
      " 15  Moving Distance        1037 non-null   float64       \n",
      " 16  Initial Wait           1037 non-null   int64         \n",
      " 17  In-Journey Wait        1037 non-null   int64         \n",
      " 18  Booked Pickup Time     1037 non-null   object        \n",
      " 19  Captain Arrival Time   1037 non-null   object        \n",
      " 20  Actual Pick-up Time    1037 non-null   object        \n",
      " 21  Drop-off time          1037 non-null   object        \n",
      " 22  Captain                1037 non-null   object        \n",
      " 23  Car Make               1037 non-null   object        \n",
      " 24  Car Model              1037 non-null   object        \n",
      " 25  Tollgate               0 non-null      float64       \n",
      " 26  Tollgate Details GMT   0 non-null      float64       \n",
      " 27  Wait Time Min          1034 non-null   float64       \n",
      " 28  Trip Currency          1037 non-null   object        \n",
      " 29  Discount               1037 non-null   object        \n",
      " 30  Trip Price             1037 non-null   int64         \n",
      " 31  Payment Currency       1037 non-null   object        \n",
      " 32  Payment Price          1037 non-null   object        \n",
      " 33  Amount of Credit Used  3 non-null      float64       \n",
      " 34  Credit ID              1034 non-null   float64       \n",
      " 35  Payment Type           1037 non-null   object        \n",
      " 36  Notes                  4 non-null      object        \n",
      "dtypes: datetime64[ns](1), float64(11), int64(4), object(21)\n",
      "memory usage: 299.9+ KB\n"
     ]
    }
   ],
   "source": [
    "df.info()"
   ]
  },
  {
   "cell_type": "markdown",
   "id": "c6d264d2",
   "metadata": {},
   "source": [
    "## Let's clean our data "
   ]
  },
  {
   "cell_type": "code",
   "execution_count": 4,
   "id": "d44a81c9",
   "metadata": {
    "execution": {
     "iopub.execute_input": "2021-10-03T07:29:37.727230Z",
     "iopub.status.busy": "2021-10-03T07:29:37.726540Z",
     "iopub.status.idle": "2021-10-03T07:29:37.728349Z",
     "shell.execute_reply": "2021-10-03T07:29:37.728961Z",
     "shell.execute_reply.started": "2021-10-03T07:28:57.953234Z"
    },
    "papermill": {
     "duration": 0.036615,
     "end_time": "2021-10-03T07:29:37.729127",
     "exception": false,
     "start_time": "2021-10-03T07:29:37.692512",
     "status": "completed"
    },
    "tags": []
   },
   "outputs": [],
   "source": [
    "df=df.drop(['Notes',\n",
    "         'Amount of Credit Used'\n",
    "         ,'Tollgate Details GMT'\n",
    "         ,'Tollgate'\n",
    "         ,'Reference Code','Rating'],axis=1)"
   ]
  },
  {
   "cell_type": "markdown",
   "id": "17082581",
   "metadata": {},
   "source": [
    "#### Check for Mising Values"
   ]
  },
  {
   "cell_type": "code",
   "execution_count": 5,
   "id": "dc22850f",
   "metadata": {
    "execution": {
     "iopub.execute_input": "2021-10-03T07:29:37.786499Z",
     "iopub.status.busy": "2021-10-03T07:29:37.785772Z",
     "iopub.status.idle": "2021-10-03T07:29:37.796780Z",
     "shell.execute_reply": "2021-10-03T07:29:37.796183Z",
     "shell.execute_reply.started": "2021-10-03T07:28:57.966134Z"
    },
    "papermill": {
     "duration": 0.041544,
     "end_time": "2021-10-03T07:29:37.796925",
     "exception": false,
     "start_time": "2021-10-03T07:29:37.755381",
     "status": "completed"
    },
    "scrolled": false,
    "tags": []
   },
   "outputs": [
    {
     "data": {
      "text/plain": [
       "Booking ID              0\n",
       "Trip ID                 0\n",
       "Service Area            0\n",
       "Booking Type            0\n",
       "Booked_Date             0\n",
       "Car Type                0\n",
       "AA1                     0\n",
       "Passenger               0\n",
       "AA                      0\n",
       "Pickup Location         0\n",
       "Dropoff Location        0\n",
       "Duration                0\n",
       "Total Distance          0\n",
       "Moving Distance         0\n",
       "Initial Wait            0\n",
       "In-Journey Wait         0\n",
       "Booked Pickup Time      0\n",
       "Captain Arrival Time    0\n",
       "Actual Pick-up Time     0\n",
       "Drop-off time           0\n",
       "Captain                 0\n",
       "Car Make                0\n",
       "Car Model               0\n",
       "Wait Time Min           3\n",
       "Trip Currency           0\n",
       "Discount                0\n",
       "Trip Price              0\n",
       "Payment Currency        0\n",
       "Payment Price           0\n",
       "Credit ID               3\n",
       "Payment Type            0\n",
       "dtype: int64"
      ]
     },
     "execution_count": 5,
     "metadata": {},
     "output_type": "execute_result"
    }
   ],
   "source": [
    "df.isnull().sum()"
   ]
  },
  {
   "cell_type": "code",
   "execution_count": 6,
   "id": "75cb9c27",
   "metadata": {
    "execution": {
     "iopub.execute_input": "2021-10-03T07:29:37.864209Z",
     "iopub.status.busy": "2021-10-03T07:29:37.863378Z",
     "iopub.status.idle": "2021-10-03T07:29:37.866382Z",
     "shell.execute_reply": "2021-10-03T07:29:37.865840Z",
     "shell.execute_reply.started": "2021-10-03T07:28:57.984369Z"
    },
    "papermill": {
     "duration": 0.042346,
     "end_time": "2021-10-03T07:29:37.866523",
     "exception": false,
     "start_time": "2021-10-03T07:29:37.824177",
     "status": "completed"
    },
    "tags": []
   },
   "outputs": [],
   "source": [
    "df=df.fillna(method='ffill')"
   ]
  },
  {
   "cell_type": "code",
   "execution_count": 7,
   "id": "c5394a47",
   "metadata": {
    "execution": {
     "iopub.execute_input": "2021-10-03T07:29:37.937603Z",
     "iopub.status.busy": "2021-10-03T07:29:37.931552Z",
     "iopub.status.idle": "2021-10-03T07:29:37.941333Z",
     "shell.execute_reply": "2021-10-03T07:29:37.940682Z",
     "shell.execute_reply.started": "2021-10-03T07:28:58.002784Z"
    },
    "papermill": {
     "duration": 0.047604,
     "end_time": "2021-10-03T07:29:37.941473",
     "exception": false,
     "start_time": "2021-10-03T07:29:37.893869",
     "status": "completed"
    },
    "tags": []
   },
   "outputs": [
    {
     "data": {
      "text/plain": [
       "Booking ID              0\n",
       "Trip ID                 0\n",
       "Service Area            0\n",
       "Booking Type            0\n",
       "Booked_Date             0\n",
       "Car Type                0\n",
       "AA1                     0\n",
       "Passenger               0\n",
       "AA                      0\n",
       "Pickup Location         0\n",
       "Dropoff Location        0\n",
       "Duration                0\n",
       "Total Distance          0\n",
       "Moving Distance         0\n",
       "Initial Wait            0\n",
       "In-Journey Wait         0\n",
       "Booked Pickup Time      0\n",
       "Captain Arrival Time    0\n",
       "Actual Pick-up Time     0\n",
       "Drop-off time           0\n",
       "Captain                 0\n",
       "Car Make                0\n",
       "Car Model               0\n",
       "Wait Time Min           0\n",
       "Trip Currency           0\n",
       "Discount                0\n",
       "Trip Price              0\n",
       "Payment Currency        0\n",
       "Payment Price           0\n",
       "Credit ID               0\n",
       "Payment Type            0\n",
       "dtype: int64"
      ]
     },
     "execution_count": 7,
     "metadata": {},
     "output_type": "execute_result"
    }
   ],
   "source": [
    "df.isnull().sum()"
   ]
  },
  {
   "cell_type": "markdown",
   "id": "edfbb4a3",
   "metadata": {},
   "source": [
    "#### Now we can see that there are not missing values in the dataset."
   ]
  },
  {
   "cell_type": "markdown",
   "id": "c697f817",
   "metadata": {},
   "source": [
    "## Date and Time formating of Data"
   ]
  },
  {
   "cell_type": "markdown",
   "id": "02e39e8e",
   "metadata": {},
   "source": [
    "##### Now we do Some formating on Booked_Date column to get out more insights about data."
   ]
  },
  {
   "cell_type": "code",
   "execution_count": 8,
   "id": "3e024b03",
   "metadata": {},
   "outputs": [],
   "source": [
    "df['Booked_Date'] = pd.to_datetime(df['Booked_Date'], format=\"%a %b %d %Y %H:%M:%S\")"
   ]
  },
  {
   "cell_type": "code",
   "execution_count": 9,
   "id": "abb67c3f",
   "metadata": {
    "papermill": {
     "duration": 0.037348,
     "end_time": "2021-10-03T07:29:40.842011",
     "exception": false,
     "start_time": "2021-10-03T07:29:40.804663",
     "status": "completed"
    },
    "tags": []
   },
   "outputs": [],
   "source": [
    "hour=[]\n",
    "minutes=[]\n",
    "day=[]\n",
    "dayofweek=[]\n",
    "month=[]\n",
    "weekday=[]\n",
    "for x in df['Booked_Date']:\n",
    "    hour.append(x.hour)\n",
    "    minutes.append(x.hour*60)\n",
    "    day.append(x.day)\n",
    "    dayofweek.append(x.dayofweek)\n",
    "    month.append(x.month)\n",
    "    weekday.append(calendar.day_name[dayofweek[-1]])\n",
    "df['HOUR']=hour\n",
    "df['MINUTES']=minutes\n",
    "df['DAY']=day\n",
    "df['DAY_OF_WEEK']=dayofweek\n",
    "df['MONTH']=month\n",
    "df['WEEKDAY']=weekday"
   ]
  },
  {
   "cell_type": "code",
   "execution_count": 10,
   "id": "b17abc1f",
   "metadata": {
    "scrolled": false
   },
   "outputs": [
    {
     "data": {
      "text/html": [
       "<div>\n",
       "<style scoped>\n",
       "    .dataframe tbody tr th:only-of-type {\n",
       "        vertical-align: middle;\n",
       "    }\n",
       "\n",
       "    .dataframe tbody tr th {\n",
       "        vertical-align: top;\n",
       "    }\n",
       "\n",
       "    .dataframe thead th {\n",
       "        text-align: right;\n",
       "    }\n",
       "</style>\n",
       "<table border=\"1\" class=\"dataframe\">\n",
       "  <thead>\n",
       "    <tr style=\"text-align: right;\">\n",
       "      <th></th>\n",
       "      <th>Booking ID</th>\n",
       "      <th>Trip ID</th>\n",
       "      <th>Service Area</th>\n",
       "      <th>Booking Type</th>\n",
       "      <th>Booked_Date</th>\n",
       "      <th>Car Type</th>\n",
       "      <th>AA1</th>\n",
       "      <th>Passenger</th>\n",
       "      <th>AA</th>\n",
       "      <th>Pickup Location</th>\n",
       "      <th>...</th>\n",
       "      <th>Payment Currency</th>\n",
       "      <th>Payment Price</th>\n",
       "      <th>Credit ID</th>\n",
       "      <th>Payment Type</th>\n",
       "      <th>HOUR</th>\n",
       "      <th>MINUTES</th>\n",
       "      <th>DAY</th>\n",
       "      <th>DAY_OF_WEEK</th>\n",
       "      <th>MONTH</th>\n",
       "      <th>WEEKDAY</th>\n",
       "    </tr>\n",
       "  </thead>\n",
       "  <tbody>\n",
       "    <tr>\n",
       "      <th>0</th>\n",
       "      <td>1.094435e+09</td>\n",
       "      <td>756104590.0</td>\n",
       "      <td>Karachi</td>\n",
       "      <td>On Demand</td>\n",
       "      <td>2020-03-10 12:28:00</td>\n",
       "      <td>Bike</td>\n",
       "      <td>AA2</td>\n",
       "      <td>B2</td>\n",
       "      <td>AA</td>\n",
       "      <td>Alama Iqbal Masjid - Jamshed Town - Karachi - ...</td>\n",
       "      <td>...</td>\n",
       "      <td>PKR</td>\n",
       "      <td>109</td>\n",
       "      <td>26218.0</td>\n",
       "      <td>Cash</td>\n",
       "      <td>12</td>\n",
       "      <td>720</td>\n",
       "      <td>10</td>\n",
       "      <td>1</td>\n",
       "      <td>3</td>\n",
       "      <td>Tuesday</td>\n",
       "    </tr>\n",
       "    <tr>\n",
       "      <th>1</th>\n",
       "      <td>1.092789e+09</td>\n",
       "      <td>754858038.0</td>\n",
       "      <td>Karachi</td>\n",
       "      <td>On Demand</td>\n",
       "      <td>2020-03-08 17:38:00</td>\n",
       "      <td>Bike</td>\n",
       "      <td>AA3</td>\n",
       "      <td>B2</td>\n",
       "      <td>AA</td>\n",
       "      <td>MCB Bank - M. A. Jinnah Road - Saddar - Karachi</td>\n",
       "      <td>...</td>\n",
       "      <td>PKR</td>\n",
       "      <td>97</td>\n",
       "      <td>26218.0</td>\n",
       "      <td>Cash</td>\n",
       "      <td>17</td>\n",
       "      <td>1020</td>\n",
       "      <td>8</td>\n",
       "      <td>6</td>\n",
       "      <td>3</td>\n",
       "      <td>Sunday</td>\n",
       "    </tr>\n",
       "    <tr>\n",
       "      <th>2</th>\n",
       "      <td>1.092552e+09</td>\n",
       "      <td>754683006.0</td>\n",
       "      <td>Karachi</td>\n",
       "      <td>On Demand</td>\n",
       "      <td>2020-03-08 13:32:00</td>\n",
       "      <td>Bike</td>\n",
       "      <td>AA4</td>\n",
       "      <td>B3</td>\n",
       "      <td>AA</td>\n",
       "      <td>Alama Iqbal Masjid - Jamshed Town - Karachi - ...</td>\n",
       "      <td>...</td>\n",
       "      <td>PKR</td>\n",
       "      <td>77</td>\n",
       "      <td>26218.0</td>\n",
       "      <td>Cash</td>\n",
       "      <td>13</td>\n",
       "      <td>780</td>\n",
       "      <td>8</td>\n",
       "      <td>6</td>\n",
       "      <td>3</td>\n",
       "      <td>Sunday</td>\n",
       "    </tr>\n",
       "    <tr>\n",
       "      <th>3</th>\n",
       "      <td>1.086480e+09</td>\n",
       "      <td>750123752.0</td>\n",
       "      <td>Karachi</td>\n",
       "      <td>On Demand</td>\n",
       "      <td>2020-03-02 17:16:00</td>\n",
       "      <td>Bike</td>\n",
       "      <td>AA5</td>\n",
       "      <td>B4</td>\n",
       "      <td>AA</td>\n",
       "      <td>[24.87, 67.05]</td>\n",
       "      <td>...</td>\n",
       "      <td>PKR</td>\n",
       "      <td>37</td>\n",
       "      <td>26218.0</td>\n",
       "      <td>Cash</td>\n",
       "      <td>17</td>\n",
       "      <td>1020</td>\n",
       "      <td>2</td>\n",
       "      <td>0</td>\n",
       "      <td>3</td>\n",
       "      <td>Monday</td>\n",
       "    </tr>\n",
       "    <tr>\n",
       "      <th>4</th>\n",
       "      <td>1.077528e+09</td>\n",
       "      <td>743340406.0</td>\n",
       "      <td>Karachi</td>\n",
       "      <td>On Demand</td>\n",
       "      <td>2020-02-22 17:50:00</td>\n",
       "      <td>Bike</td>\n",
       "      <td>AA6</td>\n",
       "      <td>B5</td>\n",
       "      <td>AA</td>\n",
       "      <td>[24.87, 67.05]</td>\n",
       "      <td>...</td>\n",
       "      <td>PKR</td>\n",
       "      <td>66</td>\n",
       "      <td>26218.0</td>\n",
       "      <td>Cash</td>\n",
       "      <td>17</td>\n",
       "      <td>1020</td>\n",
       "      <td>22</td>\n",
       "      <td>5</td>\n",
       "      <td>2</td>\n",
       "      <td>Saturday</td>\n",
       "    </tr>\n",
       "  </tbody>\n",
       "</table>\n",
       "<p>5 rows × 37 columns</p>\n",
       "</div>"
      ],
      "text/plain": [
       "     Booking ID      Trip ID Service Area Booking Type         Booked_Date  \\\n",
       "0  1.094435e+09  756104590.0      Karachi    On Demand 2020-03-10 12:28:00   \n",
       "1  1.092789e+09  754858038.0      Karachi    On Demand 2020-03-08 17:38:00   \n",
       "2  1.092552e+09  754683006.0      Karachi    On Demand 2020-03-08 13:32:00   \n",
       "3  1.086480e+09  750123752.0      Karachi    On Demand 2020-03-02 17:16:00   \n",
       "4  1.077528e+09  743340406.0      Karachi    On Demand 2020-02-22 17:50:00   \n",
       "\n",
       "  Car Type  AA1 Passenger   AA  \\\n",
       "0     Bike  AA2        B2   AA   \n",
       "1     Bike  AA3        B2   AA   \n",
       "2     Bike  AA4        B3   AA   \n",
       "3     Bike  AA5        B4   AA   \n",
       "4     Bike  AA6        B5   AA   \n",
       "\n",
       "                                     Pickup Location  ... Payment Currency  \\\n",
       "0  Alama Iqbal Masjid - Jamshed Town - Karachi - ...  ...              PKR   \n",
       "1    MCB Bank - M. A. Jinnah Road - Saddar - Karachi  ...              PKR   \n",
       "2  Alama Iqbal Masjid - Jamshed Town - Karachi - ...  ...              PKR   \n",
       "3                                     [24.87, 67.05]  ...              PKR   \n",
       "4                                     [24.87, 67.05]  ...              PKR   \n",
       "\n",
       "   Payment Price  Credit ID  Payment Type  HOUR  MINUTES DAY DAY_OF_WEEK  \\\n",
       "0            109    26218.0          Cash    12      720  10           1   \n",
       "1             97    26218.0          Cash    17     1020   8           6   \n",
       "2             77    26218.0          Cash    13      780   8           6   \n",
       "3             37    26218.0          Cash    17     1020   2           0   \n",
       "4             66    26218.0          Cash    17     1020  22           5   \n",
       "\n",
       "  MONTH   WEEKDAY  \n",
       "0     3   Tuesday  \n",
       "1     3    Sunday  \n",
       "2     3    Sunday  \n",
       "3     3    Monday  \n",
       "4     2  Saturday  \n",
       "\n",
       "[5 rows x 37 columns]"
      ]
     },
     "execution_count": 10,
     "metadata": {},
     "output_type": "execute_result"
    }
   ],
   "source": [
    "df.head()"
   ]
  },
  {
   "cell_type": "markdown",
   "id": "da6b6a39",
   "metadata": {},
   "source": [
    "## What are the number of trips?"
   ]
  },
  {
   "cell_type": "code",
   "execution_count": 11,
   "id": "32333033",
   "metadata": {
    "execution": {
     "iopub.execute_input": "2021-10-03T07:29:38.091493Z",
     "iopub.status.busy": "2021-10-03T07:29:38.090669Z",
     "iopub.status.idle": "2021-10-03T07:29:38.093517Z",
     "shell.execute_reply": "2021-10-03T07:29:38.094020Z",
     "shell.execute_reply.started": "2021-10-03T07:28:58.057629Z"
    },
    "papermill": {
     "duration": 0.036317,
     "end_time": "2021-10-03T07:29:38.094196",
     "exception": false,
     "start_time": "2021-10-03T07:29:38.057879",
     "status": "completed"
    },
    "tags": []
   },
   "outputs": [
    {
     "data": {
      "text/plain": [
       "1037"
      ]
     },
     "execution_count": 11,
     "metadata": {},
     "output_type": "execute_result"
    }
   ],
   "source": [
    "df.shape[0]"
   ]
  },
  {
   "cell_type": "markdown",
   "id": "37e9f1fb",
   "metadata": {},
   "source": [
    "## How many careem's drivers serve according to city?"
   ]
  },
  {
   "cell_type": "code",
   "execution_count": 12,
   "id": "2746a6a5",
   "metadata": {
    "execution": {
     "iopub.execute_input": "2021-10-03T07:29:38.155043Z",
     "iopub.status.busy": "2021-10-03T07:29:38.154136Z",
     "iopub.status.idle": "2021-10-03T07:29:38.162422Z",
     "shell.execute_reply": "2021-10-03T07:29:38.161874Z",
     "shell.execute_reply.started": "2021-10-03T07:28:58.067324Z"
    },
    "papermill": {
     "duration": 0.039937,
     "end_time": "2021-10-03T07:29:38.162572",
     "exception": false,
     "start_time": "2021-10-03T07:29:38.122635",
     "status": "completed"
    },
    "tags": []
   },
   "outputs": [
    {
     "data": {
      "text/plain": [
       "Karachi      1027\n",
       "Hyderabad       7\n",
       "Islamabad       3\n",
       "Name: Service Area, dtype: int64"
      ]
     },
     "execution_count": 12,
     "metadata": {},
     "output_type": "execute_result"
    }
   ],
   "source": [
    "df['Service Area'].value_counts()"
   ]
  },
  {
   "cell_type": "code",
   "execution_count": 13,
   "id": "85758b70",
   "metadata": {
    "execution": {
     "iopub.execute_input": "2021-10-03T07:29:38.225939Z",
     "iopub.status.busy": "2021-10-03T07:29:38.225223Z",
     "iopub.status.idle": "2021-10-03T07:29:38.485873Z",
     "shell.execute_reply": "2021-10-03T07:29:38.485347Z",
     "shell.execute_reply.started": "2021-10-03T07:28:58.079954Z"
    },
    "papermill": {
     "duration": 0.295036,
     "end_time": "2021-10-03T07:29:38.486020",
     "exception": false,
     "start_time": "2021-10-03T07:29:38.190984",
     "status": "completed"
    },
    "tags": []
   },
   "outputs": [
    {
     "data": {
      "text/plain": [
       "<AxesSubplot:>"
      ]
     },
     "execution_count": 13,
     "metadata": {},
     "output_type": "execute_result"
    },
    {
     "data": {
      "image/png": "[encoded data removed]",
      "text/plain": [
       "<Figure size 720x360 with 1 Axes>"
      ]
     },
     "metadata": {
      "needs_background": "light"
     },
     "output_type": "display_data"
    }
   ],
   "source": [
    "df['Service Area'].value_counts().to_frame().plot(kind='bar', color='green',figsize=(10,5))"
   ]
  },
  {
   "cell_type": "markdown",
   "id": "d7f27f94",
   "metadata": {},
   "source": [
    "## What are the booking types?"
   ]
  },
  {
   "cell_type": "code",
   "execution_count": 14,
   "id": "e8130bf8",
   "metadata": {
    "execution": {
     "iopub.execute_input": "2021-10-03T07:29:38.553069Z",
     "iopub.status.busy": "2021-10-03T07:29:38.552276Z",
     "iopub.status.idle": "2021-10-03T07:29:38.556254Z",
     "shell.execute_reply": "2021-10-03T07:29:38.555738Z",
     "shell.execute_reply.started": "2021-10-03T07:28:58.344466Z"
    },
    "papermill": {
     "duration": 0.040844,
     "end_time": "2021-10-03T07:29:38.556402",
     "exception": false,
     "start_time": "2021-10-03T07:29:38.515558",
     "status": "completed"
    },
    "tags": []
   },
   "outputs": [
    {
     "data": {
      "text/plain": [
       "On Demand    1035\n",
       "Normal          2\n",
       "Name: Booking Type, dtype: int64"
      ]
     },
     "execution_count": 14,
     "metadata": {},
     "output_type": "execute_result"
    }
   ],
   "source": [
    "\n",
    "df['Booking Type'].value_counts()"
   ]
  },
  {
   "cell_type": "code",
   "execution_count": 15,
   "id": "5916b7d1",
   "metadata": {
    "execution": {
     "iopub.execute_input": "2021-10-03T07:29:38.652601Z",
     "iopub.status.busy": "2021-10-03T07:29:38.646192Z",
     "iopub.status.idle": "2021-10-03T07:29:38.842043Z",
     "shell.execute_reply": "2021-10-03T07:29:38.842551Z",
     "shell.execute_reply.started": "2021-10-03T07:28:58.354874Z"
    },
    "papermill": {
     "duration": 0.255865,
     "end_time": "2021-10-03T07:29:38.842725",
     "exception": false,
     "start_time": "2021-10-03T07:29:38.586860",
     "status": "completed"
    },
    "tags": []
   },
   "outputs": [
    {
     "data": {
      "text/plain": [
       "<AxesSubplot:>"
      ]
     },
     "execution_count": 15,
     "metadata": {},
     "output_type": "execute_result"
    },
    {
     "data": {
      "image/png": "[encoded data removed]",
      "text/plain": [
       "<Figure size 720x360 with 1 Axes>"
      ]
     },
     "metadata": {
      "needs_background": "light"
     },
     "output_type": "display_data"
    }
   ],
   "source": [
    "df['Booking Type'].value_counts().to_frame().plot(kind='bar', color='green',figsize=(10,5))"
   ]
  },
  {
   "cell_type": "markdown",
   "id": "b1890a84",
   "metadata": {},
   "source": [
    "## How long do people travel with Careem?"
   ]
  },
  {
   "cell_type": "code",
   "execution_count": 16,
   "id": "103295c1",
   "metadata": {
    "scrolled": true
   },
   "outputs": [
    {
     "data": {
      "text/plain": [
       "<AxesSubplot:ylabel='Frequency'>"
      ]
     },
     "execution_count": 16,
     "metadata": {},
     "output_type": "execute_result"
    },
    {
     "data": {
      "image/png": "[encoded data removed]",
      "text/plain": [
       "<Figure size 720x360 with 1 Axes>"
      ]
     },
     "metadata": {
      "needs_background": "light"
     },
     "output_type": "display_data"
    }
   ],
   "source": [
    "df['Total Distance'].plot.hist(color='green',figsize=(10,5))"
   ]
  },
  {
   "cell_type": "markdown",
   "id": "3142fd03",
   "metadata": {},
   "source": [
    "##### As you can see mostly people travel arround 10 to 30 KM with Careem."
   ]
  },
  {
   "cell_type": "markdown",
   "id": "308fd91f",
   "metadata": {},
   "source": [
    "## What Hour Do Most People Take Careem To Their Destination?"
   ]
  },
  {
   "cell_type": "code",
   "execution_count": 17,
   "id": "0ca75b6e",
   "metadata": {
    "scrolled": false
   },
   "outputs": [
    {
     "data": {
      "text/plain": [
       "Text(0.5, 1.0, 'Number of trips according to specific hour')"
      ]
     },
     "execution_count": 17,
     "metadata": {},
     "output_type": "execute_result"
    },
    {
     "data": {
      "image/png": "[encoded data removed]",
      "text/plain": [
       "<Figure size 720x360 with 1 Axes>"
      ]
     },
     "metadata": {
      "needs_background": "light"
     },
     "output_type": "display_data"
    }
   ],
   "source": [
    "hours = df['Booked_Date'].dt.hour.value_counts()\n",
    "hours.plot(kind='bar',color='green',figsize=(10,5))\n",
    "plt.xlabel('Hours')\n",
    "plt.ylabel('Frequency')\n",
    "plt.title('Number of trips according to specific hour')"
   ]
  },
  {
   "cell_type": "markdown",
   "id": "63781217",
   "metadata": {},
   "source": [
    "##### As we can see most people take Careem to their destination around the 18th hour (6pm) and the least hour is (5th) hour 5 am."
   ]
  },
  {
   "cell_type": "markdown",
   "id": "cd007fdd",
   "metadata": {},
   "source": [
    "## Which service peoples use mostly?"
   ]
  },
  {
   "cell_type": "code",
   "execution_count": 18,
   "id": "5862129e",
   "metadata": {
    "execution": {
     "iopub.execute_input": "2021-10-03T07:29:38.941367Z",
     "iopub.status.busy": "2021-10-03T07:29:38.937109Z",
     "iopub.status.idle": "2021-10-03T07:29:39.187178Z",
     "shell.execute_reply": "2021-10-03T07:29:39.186561Z",
     "shell.execute_reply.started": "2021-10-03T07:28:58.574916Z"
    },
    "papermill": {
     "duration": 0.313801,
     "end_time": "2021-10-03T07:29:39.187348",
     "exception": false,
     "start_time": "2021-10-03T07:29:38.873547",
     "status": "completed"
    },
    "tags": []
   },
   "outputs": [
    {
     "data": {
      "text/plain": [
       "<AxesSubplot:>"
      ]
     },
     "execution_count": 18,
     "metadata": {},
     "output_type": "execute_result"
    },
    {
     "data": {
      "image/png": "[encoded data removed]",
      "text/plain": [
       "<Figure size 720x360 with 1 Axes>"
      ]
     },
     "metadata": {
      "needs_background": "light"
     },
     "output_type": "display_data"
    }
   ],
   "source": [
    "df['Car Type'].value_counts().to_frame().plot(kind='bar',color='green',figsize=(10,5))"
   ]
  },
  {
   "cell_type": "markdown",
   "id": "80d39fc2",
   "metadata": {},
   "source": [
    "## Which Day Has The Highest Number Of trips?"
   ]
  },
  {
   "cell_type": "code",
   "execution_count": 19,
   "id": "2ea6d9f2",
   "metadata": {
    "scrolled": false
   },
   "outputs": [
    {
     "data": {
      "text/plain": [
       "<AxesSubplot:>"
      ]
     },
     "execution_count": 19,
     "metadata": {},
     "output_type": "execute_result"
    },
    {
     "data": {
      "image/png": "[encoded data removed]",
      "text/plain": [
       "<Figure size 720x360 with 1 Axes>"
      ]
     },
     "metadata": {
      "needs_background": "light"
     },
     "output_type": "display_data"
    }
   ],
   "source": [
    "df['WEEKDAY'].value_counts().plot(kind='bar',figsize=(10,5),color='green')"
   ]
  },
  {
   "cell_type": "markdown",
   "id": "bc3dcfd3",
   "metadata": {},
   "source": [
    "##### So, Saturday has the highest number of trips. "
   ]
  },
  {
   "cell_type": "markdown",
   "id": "ab05eacc",
   "metadata": {},
   "source": [
    "## What Are The Number Of trips Per Each Day?"
   ]
  },
  {
   "cell_type": "code",
   "execution_count": 20,
   "id": "06f3b294",
   "metadata": {},
   "outputs": [
    {
     "data": {
      "text/plain": [
       "<AxesSubplot:>"
      ]
     },
     "execution_count": 20,
     "metadata": {},
     "output_type": "execute_result"
    },
    {
     "data": {
      "image/png": "[encoded data removed]",
      "text/plain": [
       "<Figure size 720x360 with 1 Axes>"
      ]
     },
     "metadata": {
      "needs_background": "light"
     },
     "output_type": "display_data"
    }
   ],
   "source": [
    "df['DAY'].value_counts().plot(kind='bar',figsize=(10,5),color='green')"
   ]
  },
  {
   "cell_type": "markdown",
   "id": "3d211584",
   "metadata": {},
   "source": [
    "## Which month has the highest number of trips?"
   ]
  },
  {
   "cell_type": "code",
   "execution_count": 21,
   "id": "2f2cd6da",
   "metadata": {
    "scrolled": true
   },
   "outputs": [
    {
     "data": {
      "text/plain": [
       "<AxesSubplot:>"
      ]
     },
     "execution_count": 21,
     "metadata": {},
     "output_type": "execute_result"
    },
    {
     "data": {
      "image/png": "[encoded data removed]",
      "text/plain": [
       "<Figure size 720x360 with 1 Axes>"
      ]
     },
     "metadata": {
      "needs_background": "light"
     },
     "output_type": "display_data"
    }
   ],
   "source": [
    "df['MONTH'].value_counts().plot(kind='bar',figsize=(10,5),color='green')"
   ]
  },
  {
   "cell_type": "markdown",
   "id": "75d0c608",
   "metadata": {},
   "source": [
    "#### As we can see in 5th month we have the highest number of trips."
   ]
  },
  {
   "cell_type": "markdown",
   "id": "f6170eaf",
   "metadata": {},
   "source": [
    "## Which hours of the day highest trips are made weekday wise?"
   ]
  },
  {
   "cell_type": "code",
   "execution_count": 22,
   "id": "02bd389a",
   "metadata": {},
   "outputs": [
    {
     "data": {
      "image/png": "[encoded data removed]",
      "text/plain": [
       "<Figure size 1440x720 with 1 Axes>"
      ]
     },
     "metadata": {
      "needs_background": "light"
     },
     "output_type": "display_data"
    }
   ],
   "source": [
    "plt.figure(figsize=(20,10))\n",
    "sns.countplot(data=df, x=df['HOUR'], hue=df['WEEKDAY'],palette=\"Set1\")\n",
    "plt.show()"
   ]
  },
  {
   "cell_type": "markdown",
   "id": "3dbe578b",
   "metadata": {},
   "source": [
    "## What is the average of the trip price ?"
   ]
  },
  {
   "cell_type": "code",
   "execution_count": 23,
   "id": "694e93ea",
   "metadata": {
    "execution": {
     "iopub.execute_input": "2021-10-03T07:29:39.257158Z",
     "iopub.status.busy": "2021-10-03T07:29:39.256158Z",
     "iopub.status.idle": "2021-10-03T07:29:39.261659Z",
     "shell.execute_reply": "2021-10-03T07:29:39.262135Z",
     "shell.execute_reply.started": "2021-10-03T07:28:58.844229Z"
    },
    "papermill": {
     "duration": 0.042107,
     "end_time": "2021-10-03T07:29:39.262319",
     "exception": false,
     "start_time": "2021-10-03T07:29:39.220212",
     "status": "completed"
    },
    "tags": []
   },
   "outputs": [
    {
     "data": {
      "text/plain": [
       "114.96528447444551"
      ]
     },
     "execution_count": 23,
     "metadata": {},
     "output_type": "execute_result"
    }
   ],
   "source": [
    "df['Trip Price'].mean()"
   ]
  },
  {
   "cell_type": "code",
   "execution_count": 24,
   "id": "4c19cc1c",
   "metadata": {
    "execution": {
     "iopub.execute_input": "2021-10-03T07:29:39.335200Z",
     "iopub.status.busy": "2021-10-03T07:29:39.334182Z",
     "iopub.status.idle": "2021-10-03T07:29:39.377582Z",
     "shell.execute_reply": "2021-10-03T07:29:39.378060Z",
     "shell.execute_reply.started": "2021-10-03T07:28:58.851811Z"
    },
    "papermill": {
     "duration": 0.082304,
     "end_time": "2021-10-03T07:29:39.378270",
     "exception": false,
     "start_time": "2021-10-03T07:29:39.295966",
     "status": "completed"
    },
    "tags": []
   },
   "outputs": [
    {
     "data": {
      "text/html": [
       "<div>\n",
       "<style scoped>\n",
       "    .dataframe tbody tr th:only-of-type {\n",
       "        vertical-align: middle;\n",
       "    }\n",
       "\n",
       "    .dataframe tbody tr th {\n",
       "        vertical-align: top;\n",
       "    }\n",
       "\n",
       "    .dataframe thead th {\n",
       "        text-align: right;\n",
       "    }\n",
       "</style>\n",
       "<table border=\"1\" class=\"dataframe\">\n",
       "  <thead>\n",
       "    <tr style=\"text-align: right;\">\n",
       "      <th></th>\n",
       "      <th>Booking ID</th>\n",
       "      <th>Trip ID</th>\n",
       "      <th>Duration</th>\n",
       "      <th>Total Distance</th>\n",
       "      <th>Moving Distance</th>\n",
       "      <th>Initial Wait</th>\n",
       "      <th>In-Journey Wait</th>\n",
       "      <th>Wait Time Min</th>\n",
       "      <th>Trip Price</th>\n",
       "      <th>Credit ID</th>\n",
       "      <th>HOUR</th>\n",
       "      <th>MINUTES</th>\n",
       "      <th>DAY</th>\n",
       "      <th>DAY_OF_WEEK</th>\n",
       "      <th>MONTH</th>\n",
       "    </tr>\n",
       "  </thead>\n",
       "  <tbody>\n",
       "    <tr>\n",
       "      <th>count</th>\n",
       "      <td>1.037000e+03</td>\n",
       "      <td>1.037000e+03</td>\n",
       "      <td>1037.000000</td>\n",
       "      <td>1037.000000</td>\n",
       "      <td>1037.000000</td>\n",
       "      <td>1037.000000</td>\n",
       "      <td>1037.000000</td>\n",
       "      <td>1037.000000</td>\n",
       "      <td>1037.000000</td>\n",
       "      <td>1.037000e+03</td>\n",
       "      <td>1037.000000</td>\n",
       "      <td>1037.000000</td>\n",
       "      <td>1037.000000</td>\n",
       "      <td>1037.000000</td>\n",
       "      <td>1037.000000</td>\n",
       "    </tr>\n",
       "    <tr>\n",
       "      <th>mean</th>\n",
       "      <td>6.052021e+08</td>\n",
       "      <td>4.012311e+08</td>\n",
       "      <td>19.707811</td>\n",
       "      <td>8.454368</td>\n",
       "      <td>7.716628</td>\n",
       "      <td>2.807136</td>\n",
       "      <td>6.509161</td>\n",
       "      <td>9.315333</td>\n",
       "      <td>114.965284</td>\n",
       "      <td>2.570136e+05</td>\n",
       "      <td>14.795564</td>\n",
       "      <td>887.733848</td>\n",
       "      <td>16.058824</td>\n",
       "      <td>3.215043</td>\n",
       "      <td>6.245902</td>\n",
       "    </tr>\n",
       "    <tr>\n",
       "      <th>std</th>\n",
       "      <td>3.068935e+08</td>\n",
       "      <td>2.116776e+08</td>\n",
       "      <td>14.776732</td>\n",
       "      <td>6.560708</td>\n",
       "      <td>6.197182</td>\n",
       "      <td>3.456490</td>\n",
       "      <td>8.158372</td>\n",
       "      <td>8.750725</td>\n",
       "      <td>126.019268</td>\n",
       "      <td>6.574012e+05</td>\n",
       "      <td>5.223264</td>\n",
       "      <td>313.395858</td>\n",
       "      <td>8.690152</td>\n",
       "      <td>1.927510</td>\n",
       "      <td>3.443462</td>\n",
       "    </tr>\n",
       "    <tr>\n",
       "      <th>min</th>\n",
       "      <td>9.006497e+06</td>\n",
       "      <td>5.495172e+06</td>\n",
       "      <td>0.000000</td>\n",
       "      <td>0.000000</td>\n",
       "      <td>0.000000</td>\n",
       "      <td>0.000000</td>\n",
       "      <td>0.000000</td>\n",
       "      <td>0.000000</td>\n",
       "      <td>0.000000</td>\n",
       "      <td>2.621800e+04</td>\n",
       "      <td>0.000000</td>\n",
       "      <td>0.000000</td>\n",
       "      <td>1.000000</td>\n",
       "      <td>0.000000</td>\n",
       "      <td>1.000000</td>\n",
       "    </tr>\n",
       "    <tr>\n",
       "      <th>25%</th>\n",
       "      <td>3.084244e+08</td>\n",
       "      <td>1.970342e+08</td>\n",
       "      <td>11.000000</td>\n",
       "      <td>3.610000</td>\n",
       "      <td>3.073990</td>\n",
       "      <td>0.000000</td>\n",
       "      <td>2.000000</td>\n",
       "      <td>4.000000</td>\n",
       "      <td>11.000000</td>\n",
       "      <td>2.621800e+04</td>\n",
       "      <td>11.000000</td>\n",
       "      <td>660.000000</td>\n",
       "      <td>9.000000</td>\n",
       "      <td>2.000000</td>\n",
       "      <td>3.000000</td>\n",
       "    </tr>\n",
       "    <tr>\n",
       "      <th>50%</th>\n",
       "      <td>6.950000e+08</td>\n",
       "      <td>4.550000e+08</td>\n",
       "      <td>17.000000</td>\n",
       "      <td>7.470000</td>\n",
       "      <td>6.698430</td>\n",
       "      <td>2.000000</td>\n",
       "      <td>4.000000</td>\n",
       "      <td>7.000000</td>\n",
       "      <td>76.000000</td>\n",
       "      <td>2.621800e+04</td>\n",
       "      <td>16.000000</td>\n",
       "      <td>960.000000</td>\n",
       "      <td>16.000000</td>\n",
       "      <td>3.000000</td>\n",
       "      <td>6.000000</td>\n",
       "    </tr>\n",
       "    <tr>\n",
       "      <th>75%</th>\n",
       "      <td>8.520000e+08</td>\n",
       "      <td>5.710000e+08</td>\n",
       "      <td>26.000000</td>\n",
       "      <td>12.220000</td>\n",
       "      <td>11.514700</td>\n",
       "      <td>4.000000</td>\n",
       "      <td>8.000000</td>\n",
       "      <td>11.000000</td>\n",
       "      <td>173.000000</td>\n",
       "      <td>2.621800e+04</td>\n",
       "      <td>19.000000</td>\n",
       "      <td>1140.000000</td>\n",
       "      <td>24.000000</td>\n",
       "      <td>5.000000</td>\n",
       "      <td>9.000000</td>\n",
       "    </tr>\n",
       "    <tr>\n",
       "      <th>max</th>\n",
       "      <td>1.100000e+09</td>\n",
       "      <td>7.610000e+08</td>\n",
       "      <td>190.000000</td>\n",
       "      <td>51.560000</td>\n",
       "      <td>48.051200</td>\n",
       "      <td>34.000000</td>\n",
       "      <td>121.000000</td>\n",
       "      <td>121.000000</td>\n",
       "      <td>1052.000000</td>\n",
       "      <td>3.224899e+06</td>\n",
       "      <td>23.000000</td>\n",
       "      <td>1380.000000</td>\n",
       "      <td>31.000000</td>\n",
       "      <td>6.000000</td>\n",
       "      <td>12.000000</td>\n",
       "    </tr>\n",
       "  </tbody>\n",
       "</table>\n",
       "</div>"
      ],
      "text/plain": [
       "         Booking ID       Trip ID     Duration  Total Distance  \\\n",
       "count  1.037000e+03  1.037000e+03  1037.000000     1037.000000   \n",
       "mean   6.052021e+08  4.012311e+08    19.707811        8.454368   \n",
       "std    3.068935e+08  2.116776e+08    14.776732        6.560708   \n",
       "min    9.006497e+06  5.495172e+06     0.000000        0.000000   \n",
       "25%    3.084244e+08  1.970342e+08    11.000000        3.610000   \n",
       "50%    6.950000e+08  4.550000e+08    17.000000        7.470000   \n",
       "75%    8.520000e+08  5.710000e+08    26.000000       12.220000   \n",
       "max    1.100000e+09  7.610000e+08   190.000000       51.560000   \n",
       "\n",
       "       Moving Distance  Initial Wait  In-Journey Wait  Wait Time Min  \\\n",
       "count      1037.000000   1037.000000      1037.000000    1037.000000   \n",
       "mean          7.716628      2.807136         6.509161       9.315333   \n",
       "std           6.197182      3.456490         8.158372       8.750725   \n",
       "min           0.000000      0.000000         0.000000       0.000000   \n",
       "25%           3.073990      0.000000         2.000000       4.000000   \n",
       "50%           6.698430      2.000000         4.000000       7.000000   \n",
       "75%          11.514700      4.000000         8.000000      11.000000   \n",
       "max          48.051200     34.000000       121.000000     121.000000   \n",
       "\n",
       "        Trip Price     Credit ID         HOUR      MINUTES          DAY  \\\n",
       "count  1037.000000  1.037000e+03  1037.000000  1037.000000  1037.000000   \n",
       "mean    114.965284  2.570136e+05    14.795564   887.733848    16.058824   \n",
       "std     126.019268  6.574012e+05     5.223264   313.395858     8.690152   \n",
       "min       0.000000  2.621800e+04     0.000000     0.000000     1.000000   \n",
       "25%      11.000000  2.621800e+04    11.000000   660.000000     9.000000   \n",
       "50%      76.000000  2.621800e+04    16.000000   960.000000    16.000000   \n",
       "75%     173.000000  2.621800e+04    19.000000  1140.000000    24.000000   \n",
       "max    1052.000000  3.224899e+06    23.000000  1380.000000    31.000000   \n",
       "\n",
       "       DAY_OF_WEEK        MONTH  \n",
       "count  1037.000000  1037.000000  \n",
       "mean      3.215043     6.245902  \n",
       "std       1.927510     3.443462  \n",
       "min       0.000000     1.000000  \n",
       "25%       2.000000     3.000000  \n",
       "50%       3.000000     6.000000  \n",
       "75%       5.000000     9.000000  \n",
       "max       6.000000    12.000000  "
      ]
     },
     "execution_count": 24,
     "metadata": {},
     "output_type": "execute_result"
    }
   ],
   "source": [
    "df.describe()"
   ]
  },
  {
   "cell_type": "markdown",
   "id": "74050cbb",
   "metadata": {},
   "source": [
    "## What are the costs of the trips?"
   ]
  },
  {
   "cell_type": "code",
   "execution_count": 25,
   "id": "59f14f15",
   "metadata": {
    "execution": {
     "iopub.execute_input": "2021-10-03T07:29:39.761744Z",
     "iopub.status.busy": "2021-10-03T07:29:39.760881Z",
     "iopub.status.idle": "2021-10-03T07:29:40.106124Z",
     "shell.execute_reply": "2021-10-03T07:29:40.105484Z",
     "shell.execute_reply.started": "2021-10-03T07:28:58.949344Z"
    },
    "papermill": {
     "duration": 0.384224,
     "end_time": "2021-10-03T07:29:40.106289",
     "exception": false,
     "start_time": "2021-10-03T07:29:39.722065",
     "status": "completed"
    },
    "scrolled": true,
    "tags": []
   },
   "outputs": [
    {
     "data": {
      "text/plain": [
       "<AxesSubplot:>"
      ]
     },
     "execution_count": 25,
     "metadata": {},
     "output_type": "execute_result"
    },
    {
     "data": {
      "image/png": "[encoded data removed]",
      "text/plain": [
       "<Figure size 720x360 with 1 Axes>"
      ]
     },
     "metadata": {
      "needs_background": "light"
     },
     "output_type": "display_data"
    }
   ],
   "source": [
    "df['Trip Price'].value_counts().head(20).to_frame().plot(kind='bar', color='green',figsize=(10,5))"
   ]
  },
  {
   "cell_type": "code",
   "execution_count": 26,
   "id": "396d5169",
   "metadata": {
    "execution": {
     "iopub.execute_input": "2021-10-03T07:29:40.185935Z",
     "iopub.status.busy": "2021-10-03T07:29:40.185185Z",
     "iopub.status.idle": "2021-10-03T07:29:40.187746Z",
     "shell.execute_reply": "2021-10-03T07:29:40.188209Z",
     "shell.execute_reply.started": "2021-10-03T07:28:59.305352Z"
    },
    "papermill": {
     "duration": 0.045958,
     "end_time": "2021-10-03T07:29:40.188407",
     "exception": false,
     "start_time": "2021-10-03T07:29:40.142449",
     "status": "completed"
    },
    "tags": []
   },
   "outputs": [
    {
     "data": {
      "text/plain": [
       "0      243\n",
       "55      11\n",
       "62      10\n",
       "51       9\n",
       "70       9\n",
       "      ... \n",
       "268      1\n",
       "407      1\n",
       "177      1\n",
       "482      1\n",
       "306      1\n",
       "Name: Trip Price, Length: 320, dtype: int64"
      ]
     },
     "execution_count": 26,
     "metadata": {},
     "output_type": "execute_result"
    }
   ],
   "source": [
    "df['Trip Price'].value_counts()"
   ]
  },
  {
   "cell_type": "code",
   "execution_count": 27,
   "id": "25dcd87c",
   "metadata": {
    "execution": {
     "iopub.execute_input": "2021-10-03T07:29:39.450495Z",
     "iopub.status.busy": "2021-10-03T07:29:39.449604Z",
     "iopub.status.idle": "2021-10-03T07:29:39.452849Z",
     "shell.execute_reply": "2021-10-03T07:29:39.453344Z",
     "shell.execute_reply.started": "2021-10-03T07:28:58.901122Z"
    },
    "papermill": {
     "duration": 0.042539,
     "end_time": "2021-10-03T07:29:39.453514",
     "exception": false,
     "start_time": "2021-10-03T07:29:39.410975",
     "status": "completed"
    },
    "tags": []
   },
   "outputs": [
    {
     "data": {
      "text/plain": [
       "1052"
      ]
     },
     "execution_count": 27,
     "metadata": {},
     "output_type": "execute_result"
    }
   ],
   "source": [
    "df['Trip Price'].max()"
   ]
  },
  {
   "cell_type": "code",
   "execution_count": 28,
   "id": "218c29e7",
   "metadata": {
    "execution": {
     "iopub.execute_input": "2021-10-03T07:29:39.528250Z",
     "iopub.status.busy": "2021-10-03T07:29:39.527564Z",
     "iopub.status.idle": "2021-10-03T07:29:39.531719Z",
     "shell.execute_reply": "2021-10-03T07:29:39.531058Z",
     "shell.execute_reply.started": "2021-10-03T07:28:58.912867Z"
    },
    "papermill": {
     "duration": 0.045034,
     "end_time": "2021-10-03T07:29:39.531868",
     "exception": false,
     "start_time": "2021-10-03T07:29:39.486834",
     "status": "completed"
    },
    "tags": []
   },
   "outputs": [
    {
     "data": {
      "text/plain": [
       "0"
      ]
     },
     "execution_count": 28,
     "metadata": {},
     "output_type": "execute_result"
    }
   ],
   "source": [
    "df['Trip Price'].min()"
   ]
  },
  {
   "cell_type": "code",
   "execution_count": 29,
   "id": "eb1ebabe",
   "metadata": {
    "execution": {
     "iopub.execute_input": "2021-10-03T07:29:39.608326Z",
     "iopub.status.busy": "2021-10-03T07:29:39.607477Z",
     "iopub.status.idle": "2021-10-03T07:29:39.610758Z",
     "shell.execute_reply": "2021-10-03T07:29:39.611286Z",
     "shell.execute_reply.started": "2021-10-03T07:28:58.924702Z"
    },
    "papermill": {
     "duration": 0.043908,
     "end_time": "2021-10-03T07:29:39.611458",
     "exception": false,
     "start_time": "2021-10-03T07:29:39.567550",
     "status": "completed"
    },
    "tags": []
   },
   "outputs": [
    {
     "data": {
      "text/plain": [
       "0    0\n",
       "Name: Trip Price, dtype: int64"
      ]
     },
     "execution_count": 29,
     "metadata": {},
     "output_type": "execute_result"
    }
   ],
   "source": [
    "df['Trip Price'].mode()"
   ]
  },
  {
   "cell_type": "markdown",
   "id": "789952f2",
   "metadata": {},
   "source": [
    "## What is the average duration of the trip?"
   ]
  },
  {
   "cell_type": "code",
   "execution_count": 30,
   "id": "52a88858",
   "metadata": {
    "execution": {
     "iopub.execute_input": "2021-10-03T07:29:39.682794Z",
     "iopub.status.busy": "2021-10-03T07:29:39.681799Z",
     "iopub.status.idle": "2021-10-03T07:29:39.687477Z",
     "shell.execute_reply": "2021-10-03T07:29:39.688064Z",
     "shell.execute_reply.started": "2021-10-03T07:28:58.939524Z"
    },
    "papermill": {
     "duration": 0.04307,
     "end_time": "2021-10-03T07:29:39.688257",
     "exception": false,
     "start_time": "2021-10-03T07:29:39.645187",
     "status": "completed"
    },
    "tags": []
   },
   "outputs": [
    {
     "data": {
      "text/plain": [
       "19.70781099324976"
      ]
     },
     "execution_count": 30,
     "metadata": {},
     "output_type": "execute_result"
    }
   ],
   "source": [
    "df['Duration'].mean()"
   ]
  },
  {
   "cell_type": "code",
   "execution_count": 31,
   "id": "dca3f4f3",
   "metadata": {
    "execution": {
     "iopub.execute_input": "2021-10-03T07:29:40.341401Z",
     "iopub.status.busy": "2021-10-03T07:29:40.340716Z",
     "iopub.status.idle": "2021-10-03T07:29:40.345702Z",
     "shell.execute_reply": "2021-10-03T07:29:40.346285Z",
     "shell.execute_reply.started": "2021-10-03T07:28:59.327764Z"
    },
    "papermill": {
     "duration": 0.044992,
     "end_time": "2021-10-03T07:29:40.346461",
     "exception": false,
     "start_time": "2021-10-03T07:29:40.301469",
     "status": "completed"
    },
    "tags": []
   },
   "outputs": [],
   "source": [
    "df=df.drop(['Booking ID','Trip ID','AA1','AA'],axis=1)"
   ]
  },
  {
   "cell_type": "markdown",
   "id": "a91115e9",
   "metadata": {},
   "source": [
    "## How many trips booked according to passengers?"
   ]
  },
  {
   "cell_type": "code",
   "execution_count": 32,
   "id": "361bc700",
   "metadata": {
    "execution": {
     "iopub.execute_input": "2021-10-03T07:29:40.422803Z",
     "iopub.status.busy": "2021-10-03T07:29:40.422090Z",
     "iopub.status.idle": "2021-10-03T07:29:40.430162Z",
     "shell.execute_reply": "2021-10-03T07:29:40.429506Z",
     "shell.execute_reply.started": "2021-10-03T07:28:59.342142Z"
    },
    "papermill": {
     "duration": 0.04635,
     "end_time": "2021-10-03T07:29:40.430326",
     "exception": false,
     "start_time": "2021-10-03T07:29:40.383976",
     "status": "completed"
    },
    "tags": []
   },
   "outputs": [
    {
     "data": {
      "text/plain": [
       "<AxesSubplot:>"
      ]
     },
     "execution_count": 32,
     "metadata": {},
     "output_type": "execute_result"
    },
    {
     "data": {
      "image/png": "[encoded data removed]",
      "text/plain": [
       "<Figure size 720x360 with 1 Axes>"
      ]
     },
     "metadata": {
      "needs_background": "light"
     },
     "output_type": "display_data"
    }
   ],
   "source": [
    "df.Passenger.value_counts().head(20).to_frame().plot(kind='bar', color='green',figsize=(10,5))"
   ]
  },
  {
   "cell_type": "code",
   "execution_count": 33,
   "id": "131756c8",
   "metadata": {
    "execution": {
     "iopub.execute_input": "2021-10-03T07:29:40.509613Z",
     "iopub.status.busy": "2021-10-03T07:29:40.508940Z",
     "iopub.status.idle": "2021-10-03T07:29:40.511497Z",
     "shell.execute_reply": "2021-10-03T07:29:40.511967Z",
     "shell.execute_reply.started": "2021-10-03T07:28:59.355635Z"
    },
    "papermill": {
     "duration": 0.045642,
     "end_time": "2021-10-03T07:29:40.512130",
     "exception": false,
     "start_time": "2021-10-03T07:29:40.466488",
     "status": "completed"
    },
    "tags": []
   },
   "outputs": [
    {
     "data": {
      "text/plain": [
       "array(['B2', 'B3', 'B4', 'B5', 'B6', 'B7', 'B8', 'B9', 'B10', 'B11',\n",
       "       'B12', 'B13', 'B14', 'B15', 'B16', 'B17', 'B18', 'B19', 'B20',\n",
       "       'B21', 'B22', 'B23', 'B24', 'B25', 'B26', 'B27', 'B28', 'B29',\n",
       "       'B30', 'B31', 'B32', 'B33', 'B34', 'B35', 'B36', 'B37', 'B38',\n",
       "       'B39', 'B40', 'B41', 'B42', 'B43', 'B44', 'B45', 'B46', 'B47',\n",
       "       'B48', 'B49', 'B50', 'B51', 'B52', 'B53', 'B54', 'B55', 'B56',\n",
       "       'B57', 'B58', 'B59', 'B60', 'B61', 'B62', 'B63', 'B64', 'B65',\n",
       "       'B66', 'B67', 'B68', 'B69', 'B70', 'B71', 'B72', 'B73', 'B74',\n",
       "       'B75', 'B76', 'B77', 'B78', 'B79', 'B80', 'B81', 'B82', 'B83',\n",
       "       'B84', 'B85', 'B86', 'B87', 'B88', 'B89', 'B90', 'B91', 'B92',\n",
       "       'B93', 'B94', 'B95', 'B96', 'B97', 'B98', 'B99', 'B100', 'B101',\n",
       "       'B102', 'B103', 'B104', 'B105', 'B106', 'B107', 'B108', 'B109',\n",
       "       'B110', 'B111', 'B112', 'B113', 'B114', 'B115', 'B116', 'B117',\n",
       "       'B118', 'B119', 'B120', 'B121', 'B122', 'B123', 'B124', 'B125',\n",
       "       'B126', 'B127', 'B128', 'B129', 'B130', 'B131', 'B132', 'B133',\n",
       "       'B134', 'B135', 'B136', 'B137', 'B138', 'B139', 'B140', 'B141',\n",
       "       'B142', 'B143', 'B144', 'B145', 'B146', 'B147', 'B148', 'B149',\n",
       "       'B150', 'B151', 'B152', 'B153', 'B154', 'B155', 'B156', 'B157',\n",
       "       'B158', 'B159', 'B160', 'B161', 'B162', 'B163', 'B164', 'B165',\n",
       "       'B166', 'B167', 'B168', 'B169', 'B170', 'B171', 'B172', 'B173',\n",
       "       'B174', 'B175', 'B176', 'B177', 'B178', 'B179', 'B180', 'B181',\n",
       "       'B182', 'B183', 'B184', 'B185', 'B186', 'B187', 'B188', 'B189',\n",
       "       'B190', 'FT', 'AKY', 'AA'], dtype=object)"
      ]
     },
     "execution_count": 33,
     "metadata": {},
     "output_type": "execute_result"
    }
   ],
   "source": [
    "df.Passenger.unique()"
   ]
  },
  {
   "cell_type": "code",
   "execution_count": 34,
   "id": "3d6811fa",
   "metadata": {
    "execution": {
     "iopub.execute_input": "2021-10-03T07:29:40.588565Z",
     "iopub.status.busy": "2021-10-03T07:29:40.587862Z",
     "iopub.status.idle": "2021-10-03T07:29:40.593798Z",
     "shell.execute_reply": "2021-10-03T07:29:40.593262Z",
     "shell.execute_reply.started": "2021-10-03T07:28:59.368592Z"
    },
    "papermill": {
     "duration": 0.045811,
     "end_time": "2021-10-03T07:29:40.593949",
     "exception": false,
     "start_time": "2021-10-03T07:29:40.548138",
     "status": "completed"
    },
    "tags": []
   },
   "outputs": [],
   "source": [
    "df=df.drop(['Passenger'],axis=1)"
   ]
  },
  {
   "cell_type": "markdown",
   "id": "b95ea75f",
   "metadata": {},
   "source": [
    "## From which location the highest number of trips booked?"
   ]
  },
  {
   "cell_type": "code",
   "execution_count": 35,
   "id": "3f029276",
   "metadata": {},
   "outputs": [
    {
     "data": {
      "text/plain": [
       "<AxesSubplot:>"
      ]
     },
     "execution_count": 35,
     "metadata": {},
     "output_type": "execute_result"
    },
    {
     "data": {
      "image/png": "[encoded data removed]",
      "text/plain": [
       "<Figure size 720x360 with 1 Axes>"
      ]
     },
     "metadata": {
      "needs_background": "light"
     },
     "output_type": "display_data"
    }
   ],
   "source": [
    "df['Pickup Location'].value_counts().head(20).to_frame().plot(kind='bar', color='green', figsize=(10,5))"
   ]
  },
  {
   "cell_type": "code",
   "execution_count": 36,
   "id": "a58651e0",
   "metadata": {
    "execution": {
     "iopub.execute_input": "2021-10-03T07:29:40.670070Z",
     "iopub.status.busy": "2021-10-03T07:29:40.669423Z",
     "iopub.status.idle": "2021-10-03T07:29:40.679211Z",
     "shell.execute_reply": "2021-10-03T07:29:40.679729Z",
     "shell.execute_reply.started": "2021-10-03T07:28:59.379417Z"
    },
    "papermill": {
     "duration": 0.049522,
     "end_time": "2021-10-03T07:29:40.679908",
     "exception": false,
     "start_time": "2021-10-03T07:29:40.630386",
     "status": "completed"
    },
    "scrolled": false,
    "tags": []
   },
   "outputs": [
    {
     "data": {
      "text/plain": [
       "array(['Alama Iqbal Masjid - Jamshed Town - Karachi - Sindh',\n",
       "       'MCB Bank - M. A. Jinnah Road - Saddar - Karachi',\n",
       "       '[24.87, 67.05]',\n",
       "       'Mohammad Ali Jinnah University - Block 6 P.E.C.H.S - Shahrah-e-faisal service road  south - karachi',\n",
       "       'Home Economics College - Club Road - Karachi',\n",
       "       'Khatoon-e-Pakistan Government Degree College For Women - Aga Khan University Hospital - Karachi - Sindh',\n",
       "       'HR Computer Academy - Allama Iqbal Colony - Karachi - Sindh',\n",
       "       'Model School Street - Model School Street - PECHS - Karachi - Sindh',\n",
       "       'Nandos - - - S.M.C.H.S. - Karachi',\n",
       "       'Model School Street - Karachi',\n",
       "       'KFC - Nursery, Karachi- Pick Up Point', '[24.86, 67.07]',\n",
       "       'Techno City - Grant Road - Saddar Town - Karachi - Sindh',\n",
       "       'Gari Khata  - Karim Lodge building  - Saddar - Karachi',\n",
       "       'Mohammad Ali Jinnah University - Shahrah-e-Faisal Service Road South - Block 6 - Karachi - Sindh',\n",
       "       'Plot L 174 - North Karachi Township - Karachi - Sindh',\n",
       "       'Seenqaaf Industrial Co. \\n - 705, Fortune Centre - P.E.C.H.S - Karachi',\n",
       "       '26th Street - 26th Street - Defence Housing Authority - Karachi - Sindh',\n",
       "       'Pizza Crust - Boat Basin - Pick Up Point',\n",
       "       'Indus University Clifton Campus - - - Clifton - Karachi',\n",
       "       'Noorani Kabab House - Shahrah-e-Quaideen - Block 2 - Karachi - Sindh',\n",
       "       'DHL global forwarding - - - P.E.C.H.S. - Karachi',\n",
       "       'Near Mohammad Ali Jinnah University - Block 6 P.E.C.H.S - Shahrah-e-faisal service road  south - karachi',\n",
       "       'Stoc Enterprise - - - Saddar - Karachi',\n",
       "       'Karachi Cantonment Station - Dr Daud Pota Rd - \\nAskari 3 - Karachi',\n",
       "       'Near Mohammad Ali Jinnah University - Shahrah-e-Faisal Service Road South - Block 6 - Karachi - Sindh',\n",
       "       'Near Model School Street - Karachi',\n",
       "       'Mohammad Ali Jinnah University - Block 6 - Karachi - Sindh',\n",
       "       'Near Mohammad Ali Jinnah University - Block 6 - Karachi - Sindh',\n",
       "       'Living Doll Beauty Parlor - Kurta Gali Road - Block 2 - Karachi - Sindh',\n",
       "       'Near A.F TRADER', 'Near Seemab Academy',\n",
       "       'Near Karachi Cantonment Station - Dr Daud Pota Rd - \\nAskari 3 - Karachi',\n",
       "       'Habib Metropolitan Bank - Prime Arcade - Bahadur Shah Zafar Road - \\nBahadurabad - Karachi',\n",
       "       'Jinnah International Terminal Road - Jinnah International Terminal Road - Faisal Cantonment - Karachi - Sindh',\n",
       "       'Mehmoodabad Main Road - Karachi',\n",
       "       'Zainab Market - Abdullah Haroon Road - Saddar Town - Karachi - Sindh',\n",
       "       'Fatmid Foundation (bloodbank& haematogical) - Jamshed Town - Karachi - Sindh',\n",
       "       'HR Computer Academy - Jamshed Town - Karachi - Sindh',\n",
       "       'Near HR Computer Academy - Jamshed Town - Karachi - Sindh',\n",
       "       'Moin Khan Academy DHA Sports Club - Defence Housing Authority - Karachi - Sindh',\n",
       "       'Asim Allah wala Biryani - Nazimabad - Karachi - Sindh',\n",
       "       'Fatimid Foundation Karachi - Sequire Street - Jamshed Town - Karachi - Sindh',\n",
       "       'Allah wala Biryani - Nazimabad - Karachi - Sindh',\n",
       "       'Jinnah International Airport - Domestic Arrival - Near Habib Bank Limited ATM',\n",
       "       'Fatima Masjid - DHA Phase 7 Ext - Karachi - Sindh',\n",
       "       'Near Fatimid Foundation Karachi - Sequire Street - Jamshed Town - Karachi - Sindh',\n",
       "       'Noor Saba Banquet - Korangi - Karachi - Sindh',\n",
       "       'Mela Marriage Lawn - Aiwan-e-Sadar Road - Saddar Town - Karachi - Sindh',\n",
       "       'Near Alama Iqbal Masjid - Jamshed Town - Karachi - Sindh',\n",
       "       'Near Liaquat National Hospital & Medical College - National Stadium Road - Gulshan-e-Iqbal - Karachi - Sindh',\n",
       "       'Home - A.Z Modeling Studio - Sardar Ali Sabri Road',\n",
       "       'Work - Resham Bazar - - - Gulshan-e-Iqbal - Karachi',\n",
       "       'Sardar Ali Sabri Road', 'Sardar Ali Sabri Road - Karachi',\n",
       "       'FIVE STAR SUPER MARKET - FIVE STAR SUPER MARKET - NORTH NAZIMABAD - Karachi',\n",
       "       'Mohammad Ali Jinnah University - PECHS - Karachi - Sindh',\n",
       "       'LeopaRoads Courier Express Center - - - Shahrah-e-Faisal - Karachi',\n",
       "       'BinBalagam House - Shikarpur Colony - Karachi - Sindh',\n",
       "       'Nizami Dawakhana - - - Saddar - Karachi',\n",
       "       'Plot B 314 - Korangi - Karachi - Sindh',\n",
       "       'Landhi Road - Landhi Road - Korangi - Karachi - Sindh',\n",
       "       'KASA Marriage Lawn - Gulzar E Hijri Scheme 33 - Karachi - Sindh',\n",
       "       'JPSD Gulistan Banquet Hall - Khaliq-uz-Zaman Road - Clifton - Karachi - Sindh',\n",
       "       'Gulshan Trade Center - - - Gulshan-E-iqbal - Karachi',\n",
       "       'Elaaj Trust - Khadda Market Lyari - Shah Waliullah Road - New Khada - Karachi',\n",
       "       'Rizwan Masjid - Naseerabad - Karachi - Sindh', '[24.86, 67.016]',\n",
       "       'Nani - Liaqat Market Road - Karachi',\n",
       "       'Home - Home - Near Speciss Public School',\n",
       "       'MAJU - Mohammad Ali Jinnah University - Shahrah-e-Faisal Service Road South - PECHS - Karachi - Sindh',\n",
       "       'McDonalds - Rashid Minhas Road - \\nGulshan-e-Iqbal - Karachi',\n",
       "       'Indian Kitchen - - - Shahrah-e-Faisal - Karachi',\n",
       "       'Near Home - Home - Near Speciss Public School',\n",
       "       'Near TARIQ COLD & GEN STORE - HVHC - TARIQ COLD & GEN STORE - HVHC - LIAQUATABAD - Karachi',\n",
       "       'Sameers Place - Al-Fazal Plaza - North Nazimabad - Karachi - Sindh',\n",
       "       'Wireless Gate Bus Stop - Shahrah-e-Faisal - Shah Faisal Colony - Karachi - Sindh',\n",
       "       'Faysal Bank - \\nMohammed Ali Cooperative Housing Society - Karachi',\n",
       "       'Unnamed Road - Unnamed Road - Shah Faisal Colony - Karachi - Sindh',\n",
       "       'Zahid Restaurant - Tariq Road - PECHS - Karachi - Sindh',\n",
       "       'Shahrah-e-Faisal Road Unnamed Road - Karachi',\n",
       "       'Askari IV - Karachi - Sindh',\n",
       "       'A-One Snacks - South Park Avenue - Defence Housing Authority - Karachi - Sindh',\n",
       "       'Malir Halt - Shah Faisal Colony - Karachi - Sindh',\n",
       "       'Anees Hussain - Gulshan e iqbal Campus - Pick Up Point',\n",
       "       'Dads Office - Dads Office - Near Dad Office - Habib Metropolitan Bank - Uzma Arcade - Block 7, Khayaban-e-Iqbal, - \\nKDA Scheme No.5 - Karachi',\n",
       "       'Near MAJU - Mohammad Ali Jinnah University - Shahrah-e-Faisal Service Road South - PECHS - Karachi - Sindh',\n",
       "       'Hotel Faran - Shahrah-e-Faisal Road - P.E.C.H.S - Karachi',\n",
       "       'Defence Central Library - Sunset Boulevard Road - Phase 2 Ext - Karachi - Sindh',\n",
       "       'University - National University Of Computer & Emerging Sciences - N-5 - Shah Latif Town - Karachi - Sindh',\n",
       "       'Near Deputy Commissioner District Korangi Karachi \\nÚ\\x88ŲūŲđÛ\\x8c ÚĐŲ\\x85ØīŲ\\x86Øą ØķŲ\\x84Øđ ÚĐŲ\\x88ØąŲ\\x86ÚŊÛ\\x8c ÚĐØąØ§Ú\\x86Û\\x8c - - - Korangi town - Karachi',\n",
       "       'Near Nani - Liaqat Market Road - Karachi',\n",
       "       'PIA SpeedEx - Faisal Cantonment - Karachi - Sindh',\n",
       "       'Near King Edward Grammar School (Girls Section)',\n",
       "       'Minnie Minors - - - Saddar - Karachi',\n",
       "       \"Near Talha Nasir's Home - Talha Nasir's Home - Near Website Designer & Software Developer karachi\",\n",
       "       'Near Brain Innova',\n",
       "       'Near The Educators - - - Shah Faisal Colony - Karachi',\n",
       "       'Near University - National University Of Computer & Emerging Sciences - N-5 - Shah Latif Town - Karachi - Sindh',\n",
       "       'Shahrah-e-Faisal Road - Karachi',\n",
       "       'Malir Halt - Gulshan E Amin Chs - Karachi - Sindh',\n",
       "       'Near Saeed Super Store', '[24.89, 67.05]',\n",
       "       'Sheeraz Medical - Sheeraz Medical - Near Saeed Super Store',\n",
       "       'Regal Showk - Regal Chowk - - - Saddar - Karachi',\n",
       "       'Skin Hospital, RegalSaddar - - - Saddar - Karachi',\n",
       "       'Abdul Waheed & Samad BBQ - - - Korangi town - Karachi',\n",
       "       'Al Nas Hospital - Shah Faisal Colony - Karachi - Sindh',\n",
       "       'Near National Highway Restaurant', 'Shahrah-e-Faisal - Karachi',\n",
       "       'Near Quetta Marhaba Restaurant',\n",
       "       'Near Masjid O Imam Bargah Hussaini Sifarat Khana.',\n",
       "       'Shahrah-e-Liaquat - Karachi', 'Near Ali Hardware Shop',\n",
       "       'Near Elaaj Trust - Mobile Market - Zaibunnisa Street - Karachi',\n",
       "       'Jamia Millia Road - Karachi',\n",
       "       'Faysal Bank - Electronics Market - Saddar - Karachi',\n",
       "       \"Talha Nasir's Home - Talha Nasir's Home - Near Website Designer & Software Developer karachi\",\n",
       "       'Near Eye Specialist Dr. Arsalan Farooq',\n",
       "       'Home - Jamia Millia Road - Karachi',\n",
       "       'National University Of Computer & Emerging Sciences - N-5 - Shah Latif Town - Karachi - Sindh',\n",
       "       'Dad Office - Habib Metropolitan Bank - Uzma Arcade - Block 7, Khayaban-e-Iqbal, - \\nKDA Scheme No.5 - Karachi',\n",
       "       'Petrol Pump Bus Stop - Karachi',\n",
       "       'Al-Fazal Plaza - North Nazimabad - Karachi - Sindh',\n",
       "       'Hospital - National Medical Centre - Korangi Road - Karachi',\n",
       "       'South Park Avenue - Karachi', 'Techno Universal Road - Karachi',\n",
       "       'Street 3 - Street 3 - Askari 4 - Karachi - Sindh',\n",
       "       'Habib Bank - Ziauddin Road - \\n Federal B Area - Karachi',\n",
       "       '786 Medical - Oppsite Bank Al Habib - Qasimabad - Hyderabad',\n",
       "       'Rashid Minhas Road - 150 - Askari 4 - Karachi',\n",
       "       'Arrival Lounge Domestic - Jinnah International Terminal Road - Faisal Cantonment - Karachi - Sindh',\n",
       "       'Lal Bati / Casualty ( Departments Of Emergency & Neurology ) - Hyderabad - Sindh',\n",
       "       'Isra University Hospital - Hyderabad - Sindh',\n",
       "       'Basera Towers and Shopping Mall - Gulistan-e-Johar - Karachi - Sindh',\n",
       "       'Kharadar Police Station - M.A Jinnah Road - Bunder Quarter - Karachi - Sindh',\n",
       "       'Al-madni -Apartment - Ghazi Salahuddin Road - Kathiawar CHS - Karachi - Sindh',\n",
       "       'C108 LAKHANI HEIGHTS - Standard Charted Bank - Gulistan-e-Johar Branch - Abul Asar Hafeez Jalandhari Road - \\n Gulistan-e-Johar - Karachi',\n",
       "       'NED Colony Ring Street - NED Colony Ring Street - NED University Of Engineering & Technology - Karachi - Sindh',\n",
       "       'Millennium Mall Parking - Gulistan-e-Johar - Karachi - Sindh',\n",
       "       \"Mcdonald's Gulistan-e-jauhar Branch - - - Gulistan e Johar - Karachi\",\n",
       "       'Chase Value Centre - Rashid Minhas Road - Shanti Nagar - Karachi - Sindh',\n",
       "       'Airport Road - Airport Road - Faisal Cantonment - Karachi - Sindh',\n",
       "       'Ideal Degree College - - - Gulshan-E-Iqbal - Karachi',\n",
       "       'Plot C 91 - Gulberg Town - Karachi - Sindh',\n",
       "       'Aga Khan University Hospital - Aga Khan University Hospital - Karachi - Sindh',\n",
       "       'Dr. Aziz - Tahir Villa',\n",
       "       'Lal Kothi Post Office - Shahrah-e-Faisal Road - Karachi',\n",
       "       'Millennium Mall - Rashid Minhas Road - \\n Gulshan-e-Iqbal - Karachi',\n",
       "       'Dolmen Mall Harbor Front\\n  - Dolmen Mall Clifton - Dolmen City, HC-3, Block-4, Marine Drive, Clifton, Karachi â\\x80\\x93 Pakistan - DHA - Karachi - Pakistan',\n",
       "       'Unnamed Road - Unnamed Road - Korangi Creek - Karachi - Sindh',\n",
       "       'Near Ingenioustribe Global Solutions - - - Shahrah-e-Faisal - Karachi',\n",
       "       'Al-Asif Square - Gulzar E Hijri Scheme 33 - Karachi - Sindh',\n",
       "       'Near LeopaRoads Courier Express Center - - - Shahrah-e-Faisal - Karachi',\n",
       "       'NADRA Mega Center DHA - Defence Housing Authority - Karachi - Sindh',\n",
       "       'Near Millennium Mall - Rashid Minhas Road - \\n Gulshan-e-Iqbal - Karachi',\n",
       "       'Urdu Bazar - Mohan Road - Gari Khata - Karachi - Sindh',\n",
       "       'Sindhi Hotel - Shanti Nagar - Karachi - Sindh',\n",
       "       'work - FAST - National University of Computer & Emerging Sciences - National Highway 5 - Bin Qasim Town - Karachi - Sindh',\n",
       "       'Bombay Nimco ( Light House ) - - - Saddar - Karachi',\n",
       "       'Near Jamia Masjid Bilal',\n",
       "       'Bachaa Party - Khaliq-uz-Zaman Road - Clifton - Karachi - Sindh',\n",
       "       'Sea Rock Apartments - Clifton - Karachi - Sindh',\n",
       "       'Karachi Marriott Hotel - Abdullah Haroon Road - \\n  - Karachi',\n",
       "       'FAST - National University of Computer & Emerging Sciences - National Highway 5 - Bin Qasim Town - Karachi - Sindh',\n",
       "       'Murshid Bazar - - - Saddar - Karachi',\n",
       "       'Near Telenor Microfinance Bank - - - Gulistan e Johar - Karachi',\n",
       "       'Near Salalah Apartment \\n  - Salalah Apartment - Saddar - Karachi',\n",
       "       'Near C108 LAKHANI HEIGHTS - Standard Charted Bank - Gulistan-e-Johar Branch - Abul Asar Hafeez Jalandhari Road - \\n Gulistan-e-Johar - Karachi',\n",
       "       'The Mall (Reon Energy Solution) - - - Gulshan-e-Iqbal - Karachi',\n",
       "       'The Metropolitan Academy Gulistan-e-Johar Campus\\n Ų\\x85Û\\x8cŲđØąŲ\\x88ŲūŲ\\x88Ų\\x84Û\\x8cŲđŲ\\x86 Ø§ÚĐÛ\\x8cÚ\\x88Ų\\x85Û\\x8c - - - Gulistan e johar - Karachi',\n",
       "       'Al Fiza Tower - Gulistan-e-Johar - Karachi - Sindh',\n",
       "       'Port Grand Food Street - Port Grand Food Street - West Wharf - Karachi - Sindh',\n",
       "       'Unnamed Road - Unnamed Road - Aga Khan University Hospital - Karachi - Sindh',\n",
       "       'Unnamed Road - Unnamed Road - Shah Faisal Colony - Shah Faisal Town - Sindh',\n",
       "       'Barrett Hodgson University - Korangi Creek - Karachi - Sindh',\n",
       "       'Drigh Road Bus Stop - Shah Faisal Colony - Karachi - Sindh',\n",
       "       'Block P Road - Block P Road - Gulzar E Hijri Scheme 33 - Karachi - Sindh',\n",
       "       '488 St 14, Phase 4 - Saint 14 - Bahria Town - Rawalpindi - Islamabad Capital Territory',\n",
       "       'I.J.P. Road - Faizabad - Rawalpindi - Islamabad Capital Territory',\n",
       "       'Royal Park Karachi - - - Gulshan-E-Iqbal - Karachi',\n",
       "       'The Ambitions - - - Gulshan-E-Iqbal - Karachi',\n",
       "       'Rashid Minhas Road - Rashid Minhas Road - Faisal Cantonment - Karachi - Sindh',\n",
       "       'Unnamed Road - Unnamed Road - Gulzar E Hijri Scheme 33 - Karachi - Sindh',\n",
       "       'Darul Sehat Hospital - Abul Asar Hafeez Jalandhari Road - Gulistan-e-Johar - Karachi - Sindh',\n",
       "       'Drig Road - Drig Road - Shah Faisal Town - Sindh',\n",
       "       'Plot A 10A - National Cement Employees CHS - Karachi - Sindh',\n",
       "       'PSO Crystal Filling Station - - - Gulshan-e-iqbal - Karachi',\n",
       "       'Dar Ul Sehat Mosque - Abul Asar Hafeez Jalandhari Road - Gulistan-e-Johar - Karachi - Sindh',\n",
       "       'Unnamed Road - Karachi',\n",
       "       'Radiance Banquet - Johar Mor Road Service Lane - \\n Gulistan-e-Jauhar - Karachi',\n",
       "       'Gulistan e Johar - Block 3 - Askari 4 - Karachi',\n",
       "       'Samsung Service centre - Magna Mall - Gulistan e Johar - Karachi',\n",
       "       'Bhao Tao Online Shopping in Pakistan - Defence Housing Authority - Karachi - Sindh',\n",
       "       'Mobilink Sales And Service Center \\n  - - - Shahrah-e-Faisal - Karachi',\n",
       "       'BILAL DEPARMENTAL STORE HVHC - BILAL DEPARMENTAL STORE HVHC - GULISTAN-E-JOHAR - Karachi',\n",
       "       'FAST - NUCES - Main Entrance - National Highway 5 - Karachi',\n",
       "       'C-414 Classic View Appartments - Sultan Mosque - Cantonment Graveyard Road - Gulistan-e-Johar - Karachi - Sindh',\n",
       "       'Plot C 61 - Gulberg Town - Karachi - Sindh', 'Street 1 - Karachi',\n",
       "       'Near Samama Corner - Samama Corner - - Karachi',\n",
       "       'Near Mohammad Ali Jinnah University - Shahrah-e-Faisal Service Road South - PECHS - Karachi - Sindh',\n",
       "       'Near SUIT#A70 - Lakhani Pride - Block 13 - Karachi - Sindh',\n",
       "       'Near The Ambitions - - - Gulshan-E-Iqbal - Karachi',\n",
       "       'Near Drig Road Flyover - Karachi',\n",
       "       'Millenium Mall - Rashid Minhas Road - Gulshan Town - Karachi',\n",
       "       'Rashid Minhas Road - Karachi',\n",
       "       'Near Masjid E Maryam Ų\\x85ØģØŽØŊ Ų\\x85ØąÛ\\x8cŲ\\x85',\n",
       "       'Arabian Food Stall - - - Gulistan e johar - Karachi',\n",
       "       'Daewoo Bus Terminal - Karachi - Hyderabad Motorway - Gulzar E Hijri Scheme 33 - Karachi - Sindh',\n",
       "       'Institute of Business Administration - Depot Lines - Karachi',\n",
       "       'Near ØģÛ\\x81ØąØ§ØĻ ÚŊŲ\\x88ŲđÚū Ø§ØģŲđØ§Ųū',\n",
       "       'Near Gulistan e Johar - Block 3 - Askari 4 - Karachi',\n",
       "       'Near SHELL PAKISTAN LIMITED - SHELL PAKISTAN LIMITED - GULISTAN-E-JOHAR - Karachi',\n",
       "       'Taj Clinics & Diagnostics - - - Gulshan-E-Iqbal - Karachi',\n",
       "       'LuckyOne Mall - FB Indus-Area Block 21, Karachi',\n",
       "       'Al Asif New Bus Terminal - Gulzar E Hijri Scheme 33 - Karachi - Sindh',\n",
       "       'Near College of Nursing JPMC',\n",
       "       'Standard Charted Bank - Al-Fiza Tower - Abul Asar Hafeez Jalandhari Road - \\n Gulistan-e-Johar - Karachi',\n",
       "       'ILYAS SUPER STORE - ILYAS SUPER STORE - GULSHAN-E-IQBAL - Karachi',\n",
       "       'SUIT#A70 - Lakhani Pride - Block 13 - Karachi - Sindh',\n",
       "       'Near Jauhar Chowrangi Road - Karachi',\n",
       "       'Jauhar Chowrangi Road Unnamed Road - Karachi',\n",
       "       'Pakistan State Oil (PSO) - - - Gulistan e johar - Karachi',\n",
       "       'Near McDonalds - Rashid Minhas Road - \\n Gulshan-e-Iqbal - Karachi',\n",
       "       'Near The Bakers - Gulistan-e-Jauhar - Pick Up Point',\n",
       "       'Near Chaseup - - - Gulshan-e-Iqbal - Karachi',\n",
       "       '22nd Commercial Street - Karachi',\n",
       "       'Lakhani Pride - Block 13 - Karachi - Sindh',\n",
       "       'Jauhar Chowrangi Road - Karachi', '93-94 Street 24 - Karachi',\n",
       "       'KHI - International Departures - First Floor - Jinnah International Airport',\n",
       "       'New Road Service Lane - Karachi',\n",
       "       'Khalid Sweets and bakers - - - Bahadurabad - Karachi',\n",
       "       'Near J.K Kabab - - - Gulistan e Johar - Karachi',\n",
       "       'Carnation Banquet Hall - Shahrah-e-Faisal Road - Karachi',\n",
       "       'Cricket Stadium Gate - - - Karsaz - Karachi',\n",
       "       \"Near Tabba Heart Institute's Lab samples collection Unit Gulistan e Johar - - - Gulistan e Johar - Karachi\",\n",
       "       'Suparco Road - Karachi',\n",
       "       'Geo Farhan Coach Stop New Road Service Lane - Karachi',\n",
       "       'Near Samsung Service centre - Magna Mall - Gulistan e Johar - Karachi',\n",
       "       'Near Karsaz Bus Stop',\n",
       "       'Near Habib University - Habib University - Near pehelwan goth - Karachi',\n",
       "       'Near Shadab Masjid - Block 11 - Karachi - Sindh',\n",
       "       'Near T.O Pharmacy - Block 6 - Karachi - Sindh',\n",
       "       'Shadab Masjid - Block 11 - Karachi - Sindh',\n",
       "       \"Dr Dawood & Saud's Clinic - - - Bahadurabad - Karachi\",\n",
       "       'Near Unnamed Road - Karachi',\n",
       "       'Karachi - Hyderabad Motorway - Karachi',\n",
       "       'Near Beach Luxury Hotel - Moulvi Tamizuddhhin Khan Road - \\n Sultanabad - Karachi',\n",
       "       'Near 23rd Commercial Street - DHA Phase II Extension - Karachi',\n",
       "       'Near Tiny Treasures Montessori - - - Gulistan e johar - Karachi',\n",
       "       'Invest Wiser Hub - Block 13 - Karachi - Sindh',\n",
       "       'Jamshoro - Jamshoro - Sindh',\n",
       "       'Standard Charted Bank - Gulistan-e-Johar Branch - Abul Asar Hafeez Jalandhari Road - \\n Gulistan-e-Johar - Karachi',\n",
       "       'Near FAST - NUCES - Main Entrance - National Highway 5 - Karachi',\n",
       "       'Al Fiza Tower - Block 14 - Karachi - Sindh',\n",
       "       'Karachi Zoo - Shahrah-e-Firdousi - Garden - Karachi',\n",
       "       'Ziauddin Road - Karachi',\n",
       "       'LuckyOne Mall - - - Federal B Area - Karachi',\n",
       "       'Near Standard Charted Bank - Gulistan-e-Johar Branch - Abul Asar Hafeez Jalandhari Road - \\n Gulistan-e-Johar - Karachi',\n",
       "       'Doctors Plaza, The Plaza - Block 9 - Karachi - Sindh',\n",
       "       'Govt Islamia College for Women - New MA Jinnah Road - Saddar Town, Sindh - Karachi - Sindh',\n",
       "       '197 Street No 11A - Karachi',\n",
       "       'Gelato Affair - - - Karsaz - Karachi', 'Near Safari Avenue',\n",
       "       '5/2 Shahrah-e-Faisal Road - Karachi',\n",
       "       'LuckyOne Mall - Main Entrance - FB Indus-Area Block 21 - Karachi',\n",
       "       'Burger Hut - - - Gulistan e johar - Karachi',\n",
       "       'Suhrab Goth Mosque - Abul Hasan Isphahani Road - Gulzar E Hijri Scheme 33 - Karachi - Sindh',\n",
       "       'Aga Khan Maternal & Child Care Centre - Jamshoro Road - Hyderabad - Sindh',\n",
       "       'Careem Opportunity Centre, Gulshan Branch - - - Gulshan-E-Iqbal - Karachi',\n",
       "       'Near Komal Apartments - - - Gulistan e Johar - Karachi',\n",
       "       'Near National Highway Authority Regional HQ',\n",
       "       '2nd Shadaab Street - Karachi',\n",
       "       'Near Candles Banquet Hall - Johar Mor Road Service - \\n Gulistan-e-Jauhar - Karachi',\n",
       "       'Jamsa Street - Jamsa Street - North Karachi Township - Karachi - Sindh',\n",
       "       '5/2 Shahrah-e-Faisal Road Drigh Road Railway Station - Karachi',\n",
       "       'Kharadar Police Station - M. A. Jinnah Road - Bunder Quarter - Karachi - Sindh',\n",
       "       'Near Street 1 - Karachi', 'Gulshan Bungalows Road - Karachi',\n",
       "       'Sahara Village Centre - Ibrahim Hyderi - Karachi - Sindh',\n",
       "       'Shadab Masjid - Gulberg - Karachi - Sindh', 'Near Cafe Luddo',\n",
       "       'National Highway 5 - Karachi',\n",
       "       'A-247 Gulistan-e-Jauhar - Malir Cantt Road - Karachi',\n",
       "       'Dacca Sweets and Bakers - Rashid Minhas Road - Gulshan-e-Iqbal - Karachi - Sindh',\n",
       "       'Near MCB Bank - Khayaban-e-Shamsheer - \\n Phase-V, DHA - Karachi',\n",
       "       'Service Road - Karachi',\n",
       "       'Shahrah-e-Faisal Road Karsaz Road - Karachi',\n",
       "       'Cantonment Graveyard Road - Karachi',\n",
       "       'Abul Asar Hafeez Jalandhari Road - Karachi',\n",
       "       'Premier College - North Nazimabad - Karachi - Sindh',\n",
       "       'Near Faysal Bank - Burns Road - Saddar - Karachi',\n",
       "       'Beach Luxury Hotel - Moulvi Tamizuddhhin Khan Road - \\n Sultanabad - Karachi',\n",
       "       'Owais Home Street Number 3 - Karachi',\n",
       "       'Near Liaquat National Hospital Medical ward Male',\n",
       "       'Al-Rauf Apartments - Cantonment Graveyard Road - Gulistan-e-Johar - Karachi - Sindh',\n",
       "       'Near Arsalan Photo Studio',\n",
       "       'Admore CNG and Petrol pump - Qasimabad - Hyderabad - Sindh',\n",
       "       'Street 11 - Karachi', 'Near Radiology AKUH',\n",
       "       'Al-Asif Square - Haji Jannat Gul Town - Karachi - Sindh',\n",
       "       'Rabia City Bunglows Road - Karachi',\n",
       "       'Hashmanis Hospital - Jamshed Town - Karachi - Sindh',\n",
       "       'Near Johar Sweets - Rashid Minhas Road - Johar Mor - Karachi',\n",
       "       'Daewoo Bus Terminal - Karachi - Hyderabad Motorway - Karachi - Sindh',\n",
       "       'University Road - Karachi',\n",
       "       'Near Kehkashan Homes Main Road - Karachi',\n",
       "       'Kehkashan Homes Main Road - Karachi',\n",
       "       'Jail Chowrangi Flyover - Jail Chowrangi Flyover - Karachi - Sindh',\n",
       "       'AM 4 - Karachi',\n",
       "       'Near MCB Bank - Works Society - Rashid Minhas Road - \\n  - Karachi',\n",
       "       'Zafar Square - AM 4 - Saddar Town - Karachi - Sindh',\n",
       "       'Near Habib Bank - Shahrah-e-Jahangir Road - Qabail Colony - Karachi',\n",
       "       'Qayyumabad - Karachi',\n",
       "       'Near MCB Bank - Privilege Centre - Shahrah-e-Faisal - Karachi',\n",
       "       'S S P East Office - Karachi - Sindh',\n",
       "       'Mohammad Ali Jinnah University - Jamshed Town - Karachi - Sindh',\n",
       "       'Near MCB Bank - New Number 616 MAC II - \\n Mehmoodabad - Karachi',\n",
       "       'Burhani Hospital - Tayyabjee Road - Saddar Town - Karachi - Sindh',\n",
       "       'Anum Empire - Shahrah-e-Faisal - Jamshed Town - Karachi - Sindh',\n",
       "       'Ali CNG - Qasimabad - Hyderabad - Sindh',\n",
       "       'Lasania Restaurant - Rashid Minhas Road Service Lane - Gulshan-e-Iqbal - Karachi - Sindh',\n",
       "       'Dow University: OJHA Campus - Gulshan-e-Iqbal - Karachi - Sindh',\n",
       "       'Near Habib Bank - Sharah-e-Pakistan - \\n Federal B Area - Karachi',\n",
       "       'Tabba Heart Institute - Gulberg - Karachi - Sindh',\n",
       "       'Dr Essa Laboratory - Johar Mor Road Service Lane - Gulistan-e-Johar - Karachi - Sindh',\n",
       "       'National Stadium Road - Karachi',\n",
       "       'Near NIPA Chorangi - Gulshan-e-Iqbal - Karachi - Sindh',\n",
       "       'Charcoal tea in front of Red apple - Allama Iqbal Road - Jamshed Town - Karachi - Sindh',\n",
       "       'Shadab Mosque - Gulberg - Karachi - Sindh',\n",
       "       'Block A Road - Karachi', '26th Street - Karachi',\n",
       "       'Hyder Hussain Road - Karachi',\n",
       "       'JolSol Bus Stop - Defence View Housing Society - Karachi - Sindh',\n",
       "       'Near C-414 Classic View Appartments - Sultan Mosque - Cantonment Graveyard Road - Gulistan-e-Johar - Karachi - Sindh',\n",
       "       'Shahrah-e-Jahangir - Karachi',\n",
       "       'Near Dow University of Health Sciences - Hatim Alvi Road - Saddar Town - Karachi',\n",
       "       'Near Burhani Hospital - Tayyabjee Road - Saddar Town - Karachi - Sindh',\n",
       "       'Near Splash', 'Strachan Road - Karachi',\n",
       "       'Gul Ahmed Lasbela Store - Jamshed Town - Karachi - Sindh',\n",
       "       'Johar Mor Road Service Lane - Karachi',\n",
       "       'Marston Rd - Karachi - Karachi',\n",
       "       'Near Habib Metropolitan Bank - Mona Arcade - \\n SMCHS - Karachi',\n",
       "       'Shaheed-e-Millat Expy - Karachi - Karachi',\n",
       "       'P.E.C.H.S. - Karachi - Karachi', 'Service Rd - Karachi - Karachi',\n",
       "       'Habib Metropolitan Bank - Mona Arcade - \\n SMCHS - Karachi',\n",
       "       'Ayub Model Secondary School - Karachi',\n",
       "       'Habib Medical Centre - Gulberg - Karachi - Sindh',\n",
       "       'Askari IV - Karachi - Karachi',\n",
       "       'Gulshan Chowrangi Bus Stop - Gulshan Town - Karachi - Sindh'],\n",
       "      dtype=object)"
      ]
     },
     "execution_count": 36,
     "metadata": {},
     "output_type": "execute_result"
    }
   ],
   "source": [
    "df['Pickup Location'].unique()"
   ]
  },
  {
   "cell_type": "markdown",
   "id": "39e6cd68",
   "metadata": {},
   "source": [
    "## How much distance covered in trips according to time?"
   ]
  },
  {
   "cell_type": "code",
   "execution_count": 37,
   "id": "6911da4c",
   "metadata": {},
   "outputs": [
    {
     "data": {
      "text/plain": [
       "<AxesSubplot:xlabel='Time \"min\"', ylabel='Distance \"km\"'>"
      ]
     },
     "execution_count": 37,
     "metadata": {},
     "output_type": "execute_result"
    },
    {
     "data": {
      "image/png": "[encoded data removed]",
      "text/plain": [
       "<Figure size 1152x288 with 2 Axes>"
      ]
     },
     "metadata": {
      "needs_background": "light"
     },
     "output_type": "display_data"
    }
   ],
   "source": [
    "plt.figure(figsize = (16,4))\n",
    "\n",
    "\n",
    "plt.subplot(1,2,1)\n",
    "plt.xlabel('Time \"min\"')\n",
    "plt.ylabel('Distance \"km\"')\n",
    "sns.lineplot( x = df.Duration, y = df['Total Distance'], color = 'green')\n",
    "\n",
    "plt.subplot(1,2,2)\n",
    "plt.xlabel('Time \"min\"')\n",
    "plt.ylabel('Distance \"km\"')\n",
    "sns.scatterplot(x = df.Duration, y = df['Total Distance'], color = 'green')"
   ]
  }
 ],
 "metadata": {
  "kernelspec": {
   "display_name": "Python 3 (ipykernel)",
   "language": "python",
   "name": "python3"
  },
  "language_info": {
   "codemirror_mode": {
    "name": "ipython",
    "version": 3
   },
   "file_extension": ".py",
   "mimetype": "text/x-python",
   "name": "python",
   "nbconvert_exporter": "python",
   "pygments_lexer": "ipython3",
   "version": "3.9.12"
  },
  "papermill": {
   "default_parameters": {},
   "duration": 13.943698,
   "end_time": "2021-10-03T07:29:42.129144",
   "environment_variables": {},
   "exception": null,
   "input_path": "__notebook__.ipynb",
   "output_path": "__notebook__.ipynb",
   "parameters": {},
   "start_time": "2021-10-03T07:29:28.185446",
   "version": "2.3.3"
  }
 },
 "nbformat": 4,
 "nbformat_minor": 5
}
